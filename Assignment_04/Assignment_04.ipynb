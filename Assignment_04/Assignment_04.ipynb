{
  "nbformat": 4,
  "nbformat_minor": 0,
  "metadata": {
    "kernelspec": {
      "display_name": "Python 3",
      "language": "python",
      "name": "python3"
    },
    "language_info": {
      "codemirror_mode": {
        "name": "ipython",
        "version": 3
      },
      "file_extension": ".py",
      "mimetype": "text/x-python",
      "name": "python",
      "nbconvert_exporter": "python",
      "pygments_lexer": "ipython3",
      "version": "3.7.4"
    },
    "colab": {
      "name": "Assignment-04.ipynb",
      "provenance": [],
      "include_colab_link": true
    }
  },
  "cells": [
    {
      "cell_type": "markdown",
      "metadata": {
        "id": "view-in-github",
        "colab_type": "text"
      },
      "source": [
        "<a href=\"https://colab.research.google.com/github/greenteausa/DATA-690-WANG/blob/master/Assignment_04/Assignment_04.ipynb\" target=\"_parent\"><img src=\"https://colab.research.google.com/assets/colab-badge.svg\" alt=\"Open In Colab\"/></a>"
      ]
    },
    {
      "cell_type": "markdown",
      "metadata": {
        "id": "rwfmg_lC-jI2",
        "colab_type": "text"
      },
      "source": [
        "# Assignment 04\n",
        "1. Write code to open the text file [census_cost.txt](census_cost.txt) and read all lines into a list named **\"line_list\"**. Print line_list.\n",
        "2. Extract the first two lines and put them in a different list named \"top2_list\". You will need to use them later. Print the top2_list.\n",
        "3. Put the rest of the lines (containing useful data elements) in a new list named \"data_list\". Print data_list.\n",
        "4. Extract the column **\"Census Year\"** from data_list and assign them to a list named **year_list**. Remove the \"*\" from the last element \"2010*\". Print the cleansed year_list.\n",
        "5. Extract the **\"Total Population\"** column from the data_list and assign them to a list named **\"pop_list\"**. Remove the \",\" from the numbers since Python doesn't recognize them. Print the cleansed \"pop_list\".\n",
        "6. Extract the **\"Census Cost\"** column from the data_list and assign them to a list named **\"cost_list\"**. Remove the \",\", and \"$\", and \"Billion\".\n",
        "Make sure to add the \"0\"s to the numbers from which you removed \"Billion\". Print the cleansed cost_list. \n",
        "\n",
        "7. Extract the **\"Average Cost per Person\"** column from the data_list and assign them to a list named **\"avg_list\"**. Remove the \"cents\", and \"$\".\n",
        "Make sure to divide the numbers in cents by 100 so that all numbers are measured in dollar. Print the cleansed avg_list.\n",
        "8. Coalesce the cleansed data and save them to a text file named \"census_cost.csv\". The new file should look similar to the original source file except that it is in \n",
        "comma-delimited format and the numbers have been cleansed. The top two lines from the original file should be retained in the new file.\n",
        "9. Open the newly-created file \"census_cost.csv\", read all lines and display them. How does it look?\n",
        "\n",
        "### Give yourself a pat on the back. Good job! \n",
        "### Now you know what data scientists do most of time: Data Cleansing."
      ]
    },
    {
      "cell_type": "markdown",
      "metadata": {
        "id": "WgIU1Kg1-jI3",
        "colab_type": "text"
      },
      "source": [
        "## 1.Write code to open the text file \"census_cost.txt\" and read all lines into a list named \"line_list\". Print line_list."
      ]
    },
    {
      "cell_type": "code",
      "metadata": {
        "id": "LC13W3tI-jI4",
        "colab_type": "code",
        "colab": {},
        "outputId": "14a42da3-da2b-45e0-e895-06695fa2ca5f"
      },
      "source": [
        "with open('census_cost.txt', 'rt') as f:  # open the local file.\n",
        "    file = f.readlines()\n",
        "line_list = [] #Created an empty file for the whole text.\n",
        "for line in file:\n",
        "    print(line)\n",
        "    line_list.append(line) # append the line by line.\n",
        "line_list # print the file."
      ],
      "execution_count": null,
      "outputs": [
        {
          "output_type": "stream",
          "text": [
            "Source: https://www.genealogybranches.com/censuscosts.html\n",
            "\n",
            "Census Year\tTotal Population\tCensus Cost\tAverage Cost Per Person\n",
            "\n",
            "1790\t3,929,214\t$44,377\t1.13 cents\n",
            "\n",
            "1800\t5,308,483\t$66,109\t1.24 cents\n",
            "\n",
            "1810\t7,239,881\t$178,445\t2.46 cents\n",
            "\n",
            "1820\t9,633,822\t$208,526\t2.16 cents\n",
            "\n",
            "1830\t12,866,020\t$378,545\t2.94 cents\n",
            "\n",
            "1840\t17,069,458\t$833,371\t4.88 cents\n",
            "\n",
            "1850\t23,191,876\t$1,423,351\t6.14 cents\n",
            "\n",
            "1860\t31,443,321\t$1,969,377\t6.26 cents\n",
            "\n",
            "1870\t38,558,371\t$3,421,198\t8.87 cents\n",
            "\n",
            "1880\t50,155,783\t$5,790,678\t11.54 cents\n",
            "\n",
            "1890\t62,979,766\t$11,547,127\t18.33 cents\n",
            "\n",
            "1900\t76,303,387\t$11,854,000\t15.54 cents\n",
            "\n",
            "1910\t91,972,266\t$15,968,000\t17.07 cents\n",
            "\n",
            "1920\t105,710,620\t$25,117,000\t23.76 cents\n",
            "\n",
            "1930\t122,775,046\t$40,156,000\t32.71 cents\n",
            "\n",
            "1940\t131,669,275\t$67,527,000\t51.29 cents\n",
            "\n",
            "1950\t151,325,798\t$91,462,000\t60.44 cents\n",
            "\n",
            "1960\t179,323,175\t$127,934,000\t71.34 cents\n",
            "\n",
            "1970\t203,302,031\t$247,653,000\t$1.22\n",
            "\n",
            "1980\t226,542,199\t$1,078,488,000\t$4.76\n",
            "\n",
            "1990\t248,718,301\t$2,492,830,000\t$10.02\n",
            "\n",
            "2000\t281,421,906\t$4.5 Billion\t$15.99\n",
            "\n",
            "2010*\t308,745,538\t$13 Billion\t$42.11\n"
          ],
          "name": "stdout"
        },
        {
          "output_type": "execute_result",
          "data": {
            "text/plain": [
              "['Source: https://www.genealogybranches.com/censuscosts.html\\n',\n",
              " 'Census Year\\tTotal Population\\tCensus Cost\\tAverage Cost Per Person\\n',\n",
              " '1790\\t3,929,214\\t$44,377\\t1.13 cents\\n',\n",
              " '1800\\t5,308,483\\t$66,109\\t1.24 cents\\n',\n",
              " '1810\\t7,239,881\\t$178,445\\t2.46 cents\\n',\n",
              " '1820\\t9,633,822\\t$208,526\\t2.16 cents\\n',\n",
              " '1830\\t12,866,020\\t$378,545\\t2.94 cents\\n',\n",
              " '1840\\t17,069,458\\t$833,371\\t4.88 cents\\n',\n",
              " '1850\\t23,191,876\\t$1,423,351\\t6.14 cents\\n',\n",
              " '1860\\t31,443,321\\t$1,969,377\\t6.26 cents\\n',\n",
              " '1870\\t38,558,371\\t$3,421,198\\t8.87 cents\\n',\n",
              " '1880\\t50,155,783\\t$5,790,678\\t11.54 cents\\n',\n",
              " '1890\\t62,979,766\\t$11,547,127\\t18.33 cents\\n',\n",
              " '1900\\t76,303,387\\t$11,854,000\\t15.54 cents\\n',\n",
              " '1910\\t91,972,266\\t$15,968,000\\t17.07 cents\\n',\n",
              " '1920\\t105,710,620\\t$25,117,000\\t23.76 cents\\n',\n",
              " '1930\\t122,775,046\\t$40,156,000\\t32.71 cents\\n',\n",
              " '1940\\t131,669,275\\t$67,527,000\\t51.29 cents\\n',\n",
              " '1950\\t151,325,798\\t$91,462,000\\t60.44 cents\\n',\n",
              " '1960\\t179,323,175\\t$127,934,000\\t71.34 cents\\n',\n",
              " '1970\\t203,302,031\\t$247,653,000\\t$1.22\\n',\n",
              " '1980\\t226,542,199\\t$1,078,488,000\\t$4.76\\n',\n",
              " '1990\\t248,718,301\\t$2,492,830,000\\t$10.02\\n',\n",
              " '2000\\t281,421,906\\t$4.5 Billion\\t$15.99\\n',\n",
              " '2010*\\t308,745,538\\t$13 Billion\\t$42.11']"
            ]
          },
          "metadata": {
            "tags": []
          },
          "execution_count": 210
        }
      ]
    },
    {
      "cell_type": "markdown",
      "metadata": {
        "id": "628T6U8t-jI7",
        "colab_type": "text"
      },
      "source": [
        "## 2.Extract the first two lines and put them in a different list named \"top2_list\". You will need to use them later. Print the top2_list."
      ]
    },
    {
      "cell_type": "code",
      "metadata": {
        "id": "rvpIONnz-jI8",
        "colab_type": "code",
        "colab": {},
        "outputId": "1c1ddbf4-404f-43c7-b15c-6aae12d4cdf1"
      },
      "source": [
        "top2_list = line_list[0:2]   # Extract the first two lines.\n",
        "top2_list"
      ],
      "execution_count": null,
      "outputs": [
        {
          "output_type": "execute_result",
          "data": {
            "text/plain": [
              "['Source: https://www.genealogybranches.com/censuscosts.html\\n',\n",
              " 'Census Year\\tTotal Population\\tCensus Cost\\tAverage Cost Per Person\\n']"
            ]
          },
          "metadata": {
            "tags": []
          },
          "execution_count": 213
        }
      ]
    },
    {
      "cell_type": "code",
      "metadata": {
        "id": "ZlSrR0H--jI_",
        "colab_type": "code",
        "colab": {},
        "outputId": "f553e8fd-e91a-4415-a773-adee4ceab7f1"
      },
      "source": [
        "top2_list = top2_list[1].replace('\\t', ',') # for the final file with the columns seperated with coma. \n",
        "top2_list"
      ],
      "execution_count": null,
      "outputs": [
        {
          "output_type": "execute_result",
          "data": {
            "text/plain": [
              "'Census Year,Total Population,Census Cost,Average Cost Per Person\\n'"
            ]
          },
          "metadata": {
            "tags": []
          },
          "execution_count": 214
        }
      ]
    },
    {
      "cell_type": "markdown",
      "metadata": {
        "id": "C5O6VkeQ-jJC",
        "colab_type": "text"
      },
      "source": [
        "## 3.Put the rest of the lines (containing useful data elements) in a new list named \"data_list\". Print data_list."
      ]
    },
    {
      "cell_type": "code",
      "metadata": {
        "id": "DQwZs7sK-jJD",
        "colab_type": "code",
        "colab": {},
        "outputId": "00b2ad31-0411-46be-80ca-a91945ee65ef"
      },
      "source": [
        "data_list = line_list[2:]  # the rest is data_list.\n",
        "data_list"
      ],
      "execution_count": null,
      "outputs": [
        {
          "output_type": "execute_result",
          "data": {
            "text/plain": [
              "['1790\\t3,929,214\\t$44,377\\t1.13 cents\\n',\n",
              " '1800\\t5,308,483\\t$66,109\\t1.24 cents\\n',\n",
              " '1810\\t7,239,881\\t$178,445\\t2.46 cents\\n',\n",
              " '1820\\t9,633,822\\t$208,526\\t2.16 cents\\n',\n",
              " '1830\\t12,866,020\\t$378,545\\t2.94 cents\\n',\n",
              " '1840\\t17,069,458\\t$833,371\\t4.88 cents\\n',\n",
              " '1850\\t23,191,876\\t$1,423,351\\t6.14 cents\\n',\n",
              " '1860\\t31,443,321\\t$1,969,377\\t6.26 cents\\n',\n",
              " '1870\\t38,558,371\\t$3,421,198\\t8.87 cents\\n',\n",
              " '1880\\t50,155,783\\t$5,790,678\\t11.54 cents\\n',\n",
              " '1890\\t62,979,766\\t$11,547,127\\t18.33 cents\\n',\n",
              " '1900\\t76,303,387\\t$11,854,000\\t15.54 cents\\n',\n",
              " '1910\\t91,972,266\\t$15,968,000\\t17.07 cents\\n',\n",
              " '1920\\t105,710,620\\t$25,117,000\\t23.76 cents\\n',\n",
              " '1930\\t122,775,046\\t$40,156,000\\t32.71 cents\\n',\n",
              " '1940\\t131,669,275\\t$67,527,000\\t51.29 cents\\n',\n",
              " '1950\\t151,325,798\\t$91,462,000\\t60.44 cents\\n',\n",
              " '1960\\t179,323,175\\t$127,934,000\\t71.34 cents\\n',\n",
              " '1970\\t203,302,031\\t$247,653,000\\t$1.22\\n',\n",
              " '1980\\t226,542,199\\t$1,078,488,000\\t$4.76\\n',\n",
              " '1990\\t248,718,301\\t$2,492,830,000\\t$10.02\\n',\n",
              " '2000\\t281,421,906\\t$4.5 Billion\\t$15.99\\n',\n",
              " '2010*\\t308,745,538\\t$13 Billion\\t$42.11']"
            ]
          },
          "metadata": {
            "tags": []
          },
          "execution_count": 190
        }
      ]
    },
    {
      "cell_type": "markdown",
      "metadata": {
        "id": "3WpEZZVG-jJF",
        "colab_type": "text"
      },
      "source": [
        "## 4.Extract the column \"Census Year\" from data_list and assign them to a list named year_list. Remove the \"\" from the last element \"2010\". Print the cleansed year_list."
      ]
    },
    {
      "cell_type": "code",
      "metadata": {
        "id": "jFCbcBkX-jJF",
        "colab_type": "code",
        "colab": {},
        "outputId": "c6f6cf56-3467-4caa-f228-8d8d5fbe9c50"
      },
      "source": [
        "data_list[1][:4] # Test how to get the year."
      ],
      "execution_count": null,
      "outputs": [
        {
          "output_type": "execute_result",
          "data": {
            "text/plain": [
              "'1800'"
            ]
          },
          "metadata": {
            "tags": []
          },
          "execution_count": 191
        }
      ]
    },
    {
      "cell_type": "code",
      "metadata": {
        "id": "ugTZbwGY-jJH",
        "colab_type": "code",
        "colab": {},
        "outputId": "1831839a-51d8-4f53-9254-daf4385b2c9d"
      },
      "source": [
        "year_list = []  # create an empty list to contain the following year to form a list.\n",
        "for i in range(len(data_list)):\n",
        "    year_list.append(data_list[i][0:4])\n",
        "print(year_list)\n",
        "    "
      ],
      "execution_count": null,
      "outputs": [
        {
          "output_type": "stream",
          "text": [
            "['1790', '1800', '1810', '1820', '1830', '1840', '1850', '1860', '1870', '1880', '1890', '1900', '1910', '1920', '1930', '1940', '1950', '1960', '1970', '1980', '1990', '2000', '2010']\n"
          ],
          "name": "stdout"
        }
      ]
    },
    {
      "cell_type": "code",
      "metadata": {
        "id": "-8LfGvnE-jJK",
        "colab_type": "code",
        "colab": {},
        "outputId": "7617fe80-e00c-47af-d628-50611ff771e2"
      },
      "source": [
        "for item in data_list: # want to try another way to get the year. split each line with\"\\t\" to get the year.\n",
        "    item.split('\\t')\n",
        "    print(item)"
      ],
      "execution_count": null,
      "outputs": [
        {
          "output_type": "stream",
          "text": [
            "1790\t3,929,214\t$44,377\t1.13 cents\n",
            "\n",
            "1800\t5,308,483\t$66,109\t1.24 cents\n",
            "\n",
            "1810\t7,239,881\t$178,445\t2.46 cents\n",
            "\n",
            "1820\t9,633,822\t$208,526\t2.16 cents\n",
            "\n",
            "1830\t12,866,020\t$378,545\t2.94 cents\n",
            "\n",
            "1840\t17,069,458\t$833,371\t4.88 cents\n",
            "\n",
            "1850\t23,191,876\t$1,423,351\t6.14 cents\n",
            "\n",
            "1860\t31,443,321\t$1,969,377\t6.26 cents\n",
            "\n",
            "1870\t38,558,371\t$3,421,198\t8.87 cents\n",
            "\n",
            "1880\t50,155,783\t$5,790,678\t11.54 cents\n",
            "\n",
            "1890\t62,979,766\t$11,547,127\t18.33 cents\n",
            "\n",
            "1900\t76,303,387\t$11,854,000\t15.54 cents\n",
            "\n",
            "1910\t91,972,266\t$15,968,000\t17.07 cents\n",
            "\n",
            "1920\t105,710,620\t$25,117,000\t23.76 cents\n",
            "\n",
            "1930\t122,775,046\t$40,156,000\t32.71 cents\n",
            "\n",
            "1940\t131,669,275\t$67,527,000\t51.29 cents\n",
            "\n",
            "1950\t151,325,798\t$91,462,000\t60.44 cents\n",
            "\n",
            "1960\t179,323,175\t$127,934,000\t71.34 cents\n",
            "\n",
            "1970\t203,302,031\t$247,653,000\t$1.22\n",
            "\n",
            "1980\t226,542,199\t$1,078,488,000\t$4.76\n",
            "\n",
            "1990\t248,718,301\t$2,492,830,000\t$10.02\n",
            "\n",
            "2000\t281,421,906\t$4.5 Billion\t$15.99\n",
            "\n",
            "2010*\t308,745,538\t$13 Billion\t$42.11\n"
          ],
          "name": "stdout"
        }
      ]
    },
    {
      "cell_type": "code",
      "metadata": {
        "id": "vuRJNuVk-jJM",
        "colab_type": "code",
        "colab": {},
        "outputId": "e74aeec7-e0a3-4443-ced4-2887b3dcb8ad"
      },
      "source": [
        "[data_list[-1].split('*')[0]] # following the upper cell to see the how to get the year without \"*\"."
      ],
      "execution_count": null,
      "outputs": [
        {
          "output_type": "execute_result",
          "data": {
            "text/plain": [
              "['2010']"
            ]
          },
          "metadata": {
            "tags": []
          },
          "execution_count": 194
        }
      ]
    },
    {
      "cell_type": "markdown",
      "metadata": {
        "id": "nL_zmfLK-jJO",
        "colab_type": "text"
      },
      "source": [
        "## 5.Extract the \"Total Population\" column from the data_list and assign them to a list named \"pop_list\". Remove the \",\" from the numbers since Python doesn't recognize them. Print the cleansed \"pop_list\"."
      ]
    },
    {
      "cell_type": "code",
      "metadata": {
        "id": "5aha2yid-jJP",
        "colab_type": "code",
        "colab": {},
        "outputId": "3636bd09-f8c7-4464-d230-a89d47567e41"
      },
      "source": [
        "pop_list = []  #create an emptly list to contain the population information from each line.\n",
        "for i in range(len(data_list)):\n",
        "    pop_list.append(data_list[i].split('\\t')[1])\n",
        "print(pop_list)\n"
      ],
      "execution_count": null,
      "outputs": [
        {
          "output_type": "stream",
          "text": [
            "['3,929,214', '5,308,483', '7,239,881', '9,633,822', '12,866,020', '17,069,458', '23,191,876', '31,443,321', '38,558,371', '50,155,783', '62,979,766', '76,303,387', '91,972,266', '105,710,620', '122,775,046', '131,669,275', '151,325,798', '179,323,175', '203,302,031', '226,542,199', '248,718,301', '281,421,906', '308,745,538']\n"
          ],
          "name": "stdout"
        }
      ]
    },
    {
      "cell_type": "code",
      "metadata": {
        "id": "DwVWHRoW-jJR",
        "colab_type": "code",
        "colab": {},
        "outputId": "1a81c3f9-2cd8-47dc-a9e1-9e9be9a7a983"
      },
      "source": [
        "pop_list"
      ],
      "execution_count": null,
      "outputs": [
        {
          "output_type": "execute_result",
          "data": {
            "text/plain": [
              "['3,929,214',\n",
              " '5,308,483',\n",
              " '7,239,881',\n",
              " '9,633,822',\n",
              " '12,866,020',\n",
              " '17,069,458',\n",
              " '23,191,876',\n",
              " '31,443,321',\n",
              " '38,558,371',\n",
              " '50,155,783',\n",
              " '62,979,766',\n",
              " '76,303,387',\n",
              " '91,972,266',\n",
              " '105,710,620',\n",
              " '122,775,046',\n",
              " '131,669,275',\n",
              " '151,325,798',\n",
              " '179,323,175',\n",
              " '203,302,031',\n",
              " '226,542,199',\n",
              " '248,718,301',\n",
              " '281,421,906',\n",
              " '308,745,538']"
            ]
          },
          "metadata": {
            "tags": []
          },
          "execution_count": 196
        }
      ]
    },
    {
      "cell_type": "code",
      "metadata": {
        "id": "qeiUvImN-jJT",
        "colab_type": "code",
        "colab": {},
        "outputId": "44f6765a-01f4-4367-b959-836076cb62cc"
      },
      "source": [
        "new_pop_list = [] # do some data cleaning to easlily manage the data. \n",
        "for item in pop_list:\n",
        "    item = str(int(item.replace(',',\"\")))  # drop the ',' , change the type to 'int', then 'str' for final join.\n",
        "    print(item)\n",
        "    new_pop_list.append(item)\n",
        "pop_list = new_pop_list"
      ],
      "execution_count": null,
      "outputs": [
        {
          "output_type": "stream",
          "text": [
            "3929214\n",
            "5308483\n",
            "7239881\n",
            "9633822\n",
            "12866020\n",
            "17069458\n",
            "23191876\n",
            "31443321\n",
            "38558371\n",
            "50155783\n",
            "62979766\n",
            "76303387\n",
            "91972266\n",
            "105710620\n",
            "122775046\n",
            "131669275\n",
            "151325798\n",
            "179323175\n",
            "203302031\n",
            "226542199\n",
            "248718301\n",
            "281421906\n",
            "308745538\n"
          ],
          "name": "stdout"
        }
      ]
    },
    {
      "cell_type": "markdown",
      "metadata": {
        "id": "H9aFdrfr-jJV",
        "colab_type": "text"
      },
      "source": [
        "## 6.Extract the \"Census Cost\" column from the data_list and assign them to a list named \"cost_list\". Remove the \",\", and \"$\", and \"Billion\". Make sure to add the \"0\"s to the numbers from which you removed \"Billion\". Print the cleansed cost_list."
      ]
    },
    {
      "cell_type": "code",
      "metadata": {
        "id": "G0dwIPTy-jJW",
        "colab_type": "code",
        "colab": {},
        "outputId": "180e9147-327b-4ef0-bee8-4ae40609bed0"
      },
      "source": [
        "cost_list = []  # create an empty list for the cost_list.\n",
        "for i in range(len(data_list)):\n",
        "    cost_list.append(data_list[i].split('\\t')[2]) # split with '\\t' and get the cost_list elements and append them to the empty list.\n",
        "print(cost_list)"
      ],
      "execution_count": null,
      "outputs": [
        {
          "output_type": "stream",
          "text": [
            "['$44,377', '$66,109', '$178,445', '$208,526', '$378,545', '$833,371', '$1,423,351', '$1,969,377', '$3,421,198', '$5,790,678', '$11,547,127', '$11,854,000', '$15,968,000', '$25,117,000', '$40,156,000', '$67,527,000', '$91,462,000', '$127,934,000', '$247,653,000', '$1,078,488,000', '$2,492,830,000', '$4.5 Billion', '$13 Billion']\n"
          ],
          "name": "stdout"
        }
      ]
    },
    {
      "cell_type": "code",
      "metadata": {
        "id": "OTwhvEX9-jJX",
        "colab_type": "code",
        "colab": {},
        "outputId": "ff3927f6-4b36-47be-f65c-d4b3589a44d8"
      },
      "source": [
        "new_cost_list = [] \n",
        "\n",
        "for item in cost_list:\n",
        "    item = item.strip('$')  # drop the '$'.\n",
        "    item = item.replace(',','')# drop the ','.\n",
        "    if 'Billion' in item: # change the 'Billion' to 1000000000 and change it to float then can multiple with 10**9,  and int then str to join easily. \n",
        "        item = item.strip('Billion')\n",
        "        item = str(int(float(item) *1000000000))\n",
        "        \n",
        "    #print(item)\n",
        "    new_cost_list.append(item)\n",
        "    cost_list = new_cost_list\n",
        "cost_list"
      ],
      "execution_count": null,
      "outputs": [
        {
          "output_type": "execute_result",
          "data": {
            "text/plain": [
              "['44377',\n",
              " '66109',\n",
              " '178445',\n",
              " '208526',\n",
              " '378545',\n",
              " '833371',\n",
              " '1423351',\n",
              " '1969377',\n",
              " '3421198',\n",
              " '5790678',\n",
              " '11547127',\n",
              " '11854000',\n",
              " '15968000',\n",
              " '25117000',\n",
              " '40156000',\n",
              " '67527000',\n",
              " '91462000',\n",
              " '127934000',\n",
              " '247653000',\n",
              " '1078488000',\n",
              " '2492830000',\n",
              " '4500000000',\n",
              " '13000000000']"
            ]
          },
          "metadata": {
            "tags": []
          },
          "execution_count": 199
        }
      ]
    },
    {
      "cell_type": "markdown",
      "metadata": {
        "id": "a_J-npT6-jJZ",
        "colab_type": "text"
      },
      "source": [
        "## 7.Extract the \"Average Cost per Person\" column from the data_list and assign them to a list named \"avg_list\". Remove the \"cents\", and \"$\". Make sure to divide the numbers in cents by 100 so that all numbers are measured in dollar. Print the cleansed avg_list."
      ]
    },
    {
      "cell_type": "code",
      "metadata": {
        "id": "8P9wscnW-jJa",
        "colab_type": "code",
        "colab": {},
        "outputId": "9c957110-15c0-47ce-eaa1-b2f91faab684"
      },
      "source": [
        "avg_list = [] # create an empty list for the Average_Cost list.\n",
        "for i in range(len(data_list)):\n",
        "    avg_list.append(data_list[i].split('\\t')[3]) # get the list elments from lines. \n",
        "print(avg_list)"
      ],
      "execution_count": null,
      "outputs": [
        {
          "output_type": "stream",
          "text": [
            "['1.13 cents\\n', '1.24 cents\\n', '2.46 cents\\n', '2.16 cents\\n', '2.94 cents\\n', '4.88 cents\\n', '6.14 cents\\n', '6.26 cents\\n', '8.87 cents\\n', '11.54 cents\\n', '18.33 cents\\n', '15.54 cents\\n', '17.07 cents\\n', '23.76 cents\\n', '32.71 cents\\n', '51.29 cents\\n', '60.44 cents\\n', '71.34 cents\\n', '$1.22\\n', '$4.76\\n', '$10.02\\n', '$15.99\\n', '$42.11']\n"
          ],
          "name": "stdout"
        }
      ]
    },
    {
      "cell_type": "code",
      "metadata": {
        "id": "0-3kso-D-jJe",
        "colab_type": "code",
        "colab": {},
        "outputId": "817c5f82-0373-44a1-9101-c83749dfa1d1"
      },
      "source": [
        "new_avg_list = []\n",
        "for item in avg_list:\n",
        "    item = item.strip('cents\\n')\n",
        "    #print(item)\n",
        "    #for item in avg_list:\n",
        "    if '$' in item:\n",
        "        item = item.strip('$') # drop '$'.\n",
        "        #print(item)\n",
        "        item = str(float(item) *100) # float to multiple and then string then to join easily.\n",
        "    print(item)\n",
        "    new_avg_list.append(item)"
      ],
      "execution_count": null,
      "outputs": [
        {
          "output_type": "stream",
          "text": [
            "1.13 \n",
            "1.24 \n",
            "2.46 \n",
            "2.16 \n",
            "2.94 \n",
            "4.88 \n",
            "6.14 \n",
            "6.26 \n",
            "8.87 \n",
            "11.54 \n",
            "18.33 \n",
            "15.54 \n",
            "17.07 \n",
            "23.76 \n",
            "32.71 \n",
            "51.29 \n",
            "60.44 \n",
            "71.34 \n",
            "122.0\n",
            "476.0\n",
            "1002.0\n",
            "1599.0\n",
            "4211.0\n"
          ],
          "name": "stdout"
        }
      ]
    },
    {
      "cell_type": "code",
      "metadata": {
        "id": "nbnPSpUw-jJh",
        "colab_type": "code",
        "colab": {},
        "outputId": "b5bce6ae-ccc0-4aef-c206-1a9c026ddfce"
      },
      "source": [
        "avg_list = new_avg_list\n",
        "avg_list"
      ],
      "execution_count": null,
      "outputs": [
        {
          "output_type": "execute_result",
          "data": {
            "text/plain": [
              "['1.13 ',\n",
              " '1.24 ',\n",
              " '2.46 ',\n",
              " '2.16 ',\n",
              " '2.94 ',\n",
              " '4.88 ',\n",
              " '6.14 ',\n",
              " '6.26 ',\n",
              " '8.87 ',\n",
              " '11.54 ',\n",
              " '18.33 ',\n",
              " '15.54 ',\n",
              " '17.07 ',\n",
              " '23.76 ',\n",
              " '32.71 ',\n",
              " '51.29 ',\n",
              " '60.44 ',\n",
              " '71.34 ',\n",
              " '122.0',\n",
              " '476.0',\n",
              " '1002.0',\n",
              " '1599.0',\n",
              " '4211.0']"
            ]
          },
          "metadata": {
            "tags": []
          },
          "execution_count": 202
        }
      ]
    },
    {
      "cell_type": "markdown",
      "metadata": {
        "id": "YyAqFMcV-jJj",
        "colab_type": "text"
      },
      "source": [
        "## 8.Coalesce the cleansed data and save them to a text file named \"census_cost.csv\". The new file should look similar to the original source file except that it is in comma-delimited format and the numbers have been cleansed. The top two lines from the original file should be retained in the new file."
      ]
    },
    {
      "cell_type": "code",
      "metadata": {
        "id": "fwoGcag0-jJk",
        "colab_type": "code",
        "colab": {},
        "outputId": "21a51878-e14a-40bd-cdff-fb4bb677407e"
      },
      "source": [
        "df = list(zip(year_list,pop_list,cost_list,avg_list)) # zip all the list and put them to a nelted list again.\n",
        "df"
      ],
      "execution_count": null,
      "outputs": [
        {
          "output_type": "execute_result",
          "data": {
            "text/plain": [
              "[('1790', '3929214', '44377', '1.13 '),\n",
              " ('1800', '5308483', '66109', '1.24 '),\n",
              " ('1810', '7239881', '178445', '2.46 '),\n",
              " ('1820', '9633822', '208526', '2.16 '),\n",
              " ('1830', '12866020', '378545', '2.94 '),\n",
              " ('1840', '17069458', '833371', '4.88 '),\n",
              " ('1850', '23191876', '1423351', '6.14 '),\n",
              " ('1860', '31443321', '1969377', '6.26 '),\n",
              " ('1870', '38558371', '3421198', '8.87 '),\n",
              " ('1880', '50155783', '5790678', '11.54 '),\n",
              " ('1890', '62979766', '11547127', '18.33 '),\n",
              " ('1900', '76303387', '11854000', '15.54 '),\n",
              " ('1910', '91972266', '15968000', '17.07 '),\n",
              " ('1920', '105710620', '25117000', '23.76 '),\n",
              " ('1930', '122775046', '40156000', '32.71 '),\n",
              " ('1940', '131669275', '67527000', '51.29 '),\n",
              " ('1950', '151325798', '91462000', '60.44 '),\n",
              " ('1960', '179323175', '127934000', '71.34 '),\n",
              " ('1970', '203302031', '247653000', '122.0'),\n",
              " ('1980', '226542199', '1078488000', '476.0'),\n",
              " ('1990', '248718301', '2492830000', '1002.0'),\n",
              " ('2000', '281421906', '4500000000', '1599.0'),\n",
              " ('2010', '308745538', '13000000000', '4211.0')]"
            ]
          },
          "metadata": {
            "tags": []
          },
          "execution_count": 203
        }
      ]
    },
    {
      "cell_type": "code",
      "metadata": {
        "id": "1KBpRtdy-jJm",
        "colab_type": "code",
        "colab": {},
        "outputId": "5e4d2b58-788d-4bab-8a86-818e3e048e86"
      },
      "source": [
        "for i in df:\n",
        "    print(i)"
      ],
      "execution_count": null,
      "outputs": [
        {
          "output_type": "stream",
          "text": [
            "('1790', '3929214', '44377', '1.13 ')\n",
            "('1800', '5308483', '66109', '1.24 ')\n",
            "('1810', '7239881', '178445', '2.46 ')\n",
            "('1820', '9633822', '208526', '2.16 ')\n",
            "('1830', '12866020', '378545', '2.94 ')\n",
            "('1840', '17069458', '833371', '4.88 ')\n",
            "('1850', '23191876', '1423351', '6.14 ')\n",
            "('1860', '31443321', '1969377', '6.26 ')\n",
            "('1870', '38558371', '3421198', '8.87 ')\n",
            "('1880', '50155783', '5790678', '11.54 ')\n",
            "('1890', '62979766', '11547127', '18.33 ')\n",
            "('1900', '76303387', '11854000', '15.54 ')\n",
            "('1910', '91972266', '15968000', '17.07 ')\n",
            "('1920', '105710620', '25117000', '23.76 ')\n",
            "('1930', '122775046', '40156000', '32.71 ')\n",
            "('1940', '131669275', '67527000', '51.29 ')\n",
            "('1950', '151325798', '91462000', '60.44 ')\n",
            "('1960', '179323175', '127934000', '71.34 ')\n",
            "('1970', '203302031', '247653000', '122.0')\n",
            "('1980', '226542199', '1078488000', '476.0')\n",
            "('1990', '248718301', '2492830000', '1002.0')\n",
            "('2000', '281421906', '4500000000', '1599.0')\n",
            "('2010', '308745538', '13000000000', '4211.0')\n"
          ],
          "name": "stdout"
        }
      ]
    },
    {
      "cell_type": "code",
      "metadata": {
        "id": "OMLTIoaK-jJo",
        "colab_type": "code",
        "colab": {}
      },
      "source": [
        "census_cost = open('census_cost.csv','w') # create a new csv file to write in. 'w' mean wrte in.\n",
        "for m in top2_list: #  write in the first two lines.\n",
        "    \n",
        "    census_cost.write(m)\n"
      ],
      "execution_count": null,
      "outputs": []
    },
    {
      "cell_type": "code",
      "metadata": {
        "id": "1QMKeEZP-jJq",
        "colab_type": "code",
        "colab": {}
      },
      "source": [
        "census_cost = open('census_cost.csv','a') # add the other list in the file with 'a'  which means 'append'\n",
        "for i in df:\n",
        "    census_cost.write(','.join(i)+'\\n') # with'\\n' for seperating lines.\n",
        "census_cost.close()"
      ],
      "execution_count": null,
      "outputs": []
    },
    {
      "cell_type": "code",
      "metadata": {
        "id": "luTEkjXv-jJt",
        "colab_type": "code",
        "colab": {}
      },
      "source": [
        ""
      ],
      "execution_count": null,
      "outputs": []
    }
  ]
}