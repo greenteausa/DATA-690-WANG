{
 "cells": [
  {
   "cell_type": "markdown",
   "metadata": {
    "id": "-2fQAV7J6oI1"
   },
   "source": [
    "### Assignment 8\n",
    "For this assignment , we will use the college scorecard dataset. \n",
    "<pre>\n",
    "From the 22 individual school year data files, randomly (using Python) select one file. \n",
    "Only read the column \"TUITIONFEE_IN\" frm this file into a data frame.\n",
    "Find out how many observations this data frame has.\n",
    "Find out how many observations that have missing value. Drop those observations.\n",
    "Find out how many observations that have value of zero. Drop those observations.\n",
    "Calculate the mean of the tuition.\n",
    "Randomly select one observation, find out the tuition of that observation.\n",
    "Calculate the different between the tuition of this observation and the average tuition (mean) off all observations above.\n",
    "Randomly select another observation and repeat the above.\n",
    "Randomly select another observation and repeat the above.\n",
    "Randomly select 5 observations, display the tuition of these observation.\n",
    "Calculate the average of these 5 observations\n",
    "Calculate the different between the average tuition of thes 5 observations and the average tuition (mean) off all observations above.\n",
    "Randomly select another 5 observations and repeat the above.\n",
    "Randomly select another 5 observation and repeat the above.\n",
    "\n",
    "Randomly select 10 observations, display the tuition of these observation.\n",
    "Calculate the average of these 10 observations\n",
    "Calculate the different between the average tuition of thes 10 observations and the average tuition (mean) off all observations above.\n",
    "Randomly select another 10 observations and repeat the above.\n",
    "Randomly select another 10 observation and repeat the above.\n",
    "\n",
    "\n",
    "Randomly select 20 observations, display the tuition of these observation.\n",
    "Calculate the average of these 20 observations\n",
    "Calculate the different between the average tuition of thes 10 observations and the average tuition (mean) off all observations above.\n",
    "Randomly select another 20 observations and repeat the above.\n",
    "Randomly select another 20 observation and repeat the above.\n",
    "\n",
    "Randomly select 30 observations, display the tuition of these observation.\n",
    "Calculate the average of these 30 observations\n",
    "Calculate the different between the average tuition of thes 10 observations and the average tuition (mean) off all observations above.\n",
    "Randomly select another 30 observations and repeat the above.\n",
    "Randomly select another 30 observation and repeat the above.\n",
    "\n",
    "Write a function that take an input x (number of observations). \n",
    "The function will perform the following:\n",
    "\n",
    "Randomly select x observations, display the tuition of these observations.\n",
    "Calculate the average of these x observations\n",
    "Calculate the different between the average tuition of these x observations and the average tuition (mean) off all observations above.\n",
    "Display the difference.\n",
    "<pre>\n"
   ]
  },
  {
   "cell_type": "code",
   "execution_count": 32,
   "metadata": {
    "id": "HpZckaJR6oI8"
   },
   "outputs": [],
   "source": [
    "# 1 - Import necessary libraries\n",
    "import requests\n",
    "import PyPDF2 \n",
    "import pandas as pd\n",
    "import urllib.request\n",
    "import zipfile\n",
    "import pandas as pd\n",
    "import numpy as np\n",
    "import matplotlib.pyplot as plt\n",
    "import os\n",
    "from random import random\n",
    "from random import randint\n",
    "import matplotlib.pyplot as plt"
   ]
  },
  {
   "cell_type": "code",
   "execution_count": null,
   "metadata": {},
   "outputs": [],
   "source": [
    "# 2 - Retrieve the names of the 22 files and assign them to a List variable\n",
    "# You would need to filter out other files\n",
    "# Display the names of these 22 files\n",
    "url = 'https://ed-public-download.app.cloud.gov/downloads/CollegeScorecard_Raw_Data.zip '\n",
    "filehandle, _ = urllib.request.urlretrieve(url)\n",
    "zip_file_object = zipfile.ZipFile(filehandle, 'r')\n",
    "first_file = zip_file_object.namelist()[0]\n",
    "file = zip_file_object.open(first_file)\n",
    "content = file.read()"
   ]
  },
  {
   "cell_type": "code",
   "execution_count": 3,
   "metadata": {},
   "outputs": [],
   "source": [
    "zip_file_object.extractall()"
   ]
  },
  {
   "cell_type": "code",
   "execution_count": 4,
   "metadata": {},
   "outputs": [
    {
     "data": {
      "text/plain": [
       "['CollegeScorecard_Raw_Data/',\n",
       " 'CollegeScorecard_Raw_Data/MERGED2011_12_PP.csv',\n",
       " 'CollegeScorecard_Raw_Data/MERGED1999_00_PP.csv',\n",
       " 'CollegeScorecard_Raw_Data/MERGED2006_07_PP.csv',\n",
       " 'CollegeScorecard_Raw_Data/MERGED2014_15_PP.csv',\n",
       " 'CollegeScorecard_Raw_Data/.DS_Store',\n",
       " 'CollegeScorecard_Raw_Data/MERGED2003_04_PP.csv',\n",
       " 'CollegeScorecard_Raw_Data/MERGED1996_97_PP.csv',\n",
       " 'CollegeScorecard_Raw_Data/FieldOfStudyData1516_1617_PP.csv',\n",
       " 'CollegeScorecard_Raw_Data/MERGED2012_13_PP.csv',\n",
       " 'CollegeScorecard_Raw_Data/MERGED2005_06_PP.csv',\n",
       " 'CollegeScorecard_Raw_Data/MERGED2009_10_PP.csv',\n",
       " 'CollegeScorecard_Raw_Data/MERGED2018_19_PP.csv',\n",
       " 'CollegeScorecard_Raw_Data/MERGED2017_18_PP.csv',\n",
       " 'CollegeScorecard_Raw_Data/Crosswalks.zip',\n",
       " 'CollegeScorecard_Raw_Data/MERGED2000_01_PP.csv',\n",
       " 'CollegeScorecard_Raw_Data/MERGED2001_02_PP.csv',\n",
       " 'CollegeScorecard_Raw_Data/MERGED2016_17_PP.csv',\n",
       " 'CollegeScorecard_Raw_Data/MERGED1997_98_PP.csv',\n",
       " 'CollegeScorecard_Raw_Data/MERGED1998_99_PP.csv',\n",
       " 'CollegeScorecard_Raw_Data/data.yaml',\n",
       " 'CollegeScorecard_Raw_Data/MERGED2004_05_PP.csv',\n",
       " 'CollegeScorecard_Raw_Data/MERGED2002_03_PP.csv',\n",
       " 'CollegeScorecard_Raw_Data/MERGED2015_16_PP.csv',\n",
       " 'CollegeScorecard_Raw_Data/MERGED2013_14_PP.csv',\n",
       " 'CollegeScorecard_Raw_Data/MERGED2007_08_PP.csv',\n",
       " 'CollegeScorecard_Raw_Data/MERGED2008_09_PP.csv',\n",
       " 'CollegeScorecard_Raw_Data/MERGED2010_11_PP.csv',\n",
       " 'CollegeScorecard_Raw_Data/FieldOfStudyData1415_1516_PP.csv']"
      ]
     },
     "execution_count": 4,
     "metadata": {},
     "output_type": "execute_result"
    }
   ],
   "source": [
    "zip_file_object.namelist()"
   ]
  },
  {
   "cell_type": "code",
   "execution_count": 8,
   "metadata": {},
   "outputs": [
    {
     "data": {
      "text/plain": [
       "'/Users/jinqingliang/Desktop/Fall 2020/data690-01 visualilization/assignment/week7'"
      ]
     },
     "execution_count": 8,
     "metadata": {},
     "output_type": "execute_result"
    }
   ],
   "source": [
    "os.getcwd()"
   ]
  },
  {
   "cell_type": "code",
   "execution_count": 9,
   "metadata": {},
   "outputs": [
    {
     "data": {
      "text/plain": [
       "['CollegeScorecard_Raw_Data', 'Assignment_07.ipynb', '.ipynb_checkpoints']"
      ]
     },
     "execution_count": 9,
     "metadata": {},
     "output_type": "execute_result"
    }
   ],
   "source": [
    "os.listdir()"
   ]
  },
  {
   "cell_type": "code",
   "execution_count": 21,
   "metadata": {},
   "outputs": [
    {
     "data": {
      "text/plain": [
       "['MERGED2011_12_PP.csv',\n",
       " 'MERGED1999_00_PP.csv',\n",
       " 'MERGED2006_07_PP.csv',\n",
       " 'MERGED2014_15_PP.csv',\n",
       " '.DS_Store',\n",
       " 'MERGED2003_04_PP.csv',\n",
       " 'MERGED1996_97_PP.csv',\n",
       " 'FieldOfStudyData1516_1617_PP.csv',\n",
       " 'MERGED2012_13_PP.csv',\n",
       " 'MERGED2005_06_PP.csv',\n",
       " 'MERGED2009_10_PP.csv',\n",
       " 'MERGED2018_19_PP.csv',\n",
       " 'MERGED2017_18_PP.csv',\n",
       " 'Crosswalks.zip',\n",
       " 'MERGED2000_01_PP.csv',\n",
       " 'MERGED2001_02_PP.csv',\n",
       " 'MERGED2016_17_PP.csv',\n",
       " 'MERGED1997_98_PP.csv',\n",
       " 'MERGED1998_99_PP.csv',\n",
       " 'data.yaml',\n",
       " 'MERGED2004_05_PP.csv',\n",
       " 'MERGED2002_03_PP.csv',\n",
       " 'MERGED2015_16_PP.csv',\n",
       " 'MERGED2013_14_PP.csv',\n",
       " 'MERGED2007_08_PP.csv',\n",
       " 'MERGED2008_09_PP.csv',\n",
       " 'MERGED2010_11_PP.csv',\n",
       " 'FieldOfStudyData1415_1516_PP.csv']"
      ]
     },
     "execution_count": 21,
     "metadata": {},
     "output_type": "execute_result"
    }
   ],
   "source": [
    "data_dir = \"./CollegeScorecard_Raw_Data/\"\n",
    "file_list = os.listdir(data_dir)\n",
    "file_list"
   ]
  },
  {
   "cell_type": "code",
   "execution_count": 22,
   "metadata": {},
   "outputs": [
    {
     "data": {
      "text/plain": [
       "['MERGED2011_12_PP.csv',\n",
       " 'MERGED1999_00_PP.csv',\n",
       " 'MERGED2006_07_PP.csv',\n",
       " 'MERGED2014_15_PP.csv',\n",
       " 'MERGED2003_04_PP.csv',\n",
       " 'MERGED1996_97_PP.csv',\n",
       " 'MERGED2012_13_PP.csv',\n",
       " 'MERGED2005_06_PP.csv',\n",
       " 'MERGED2009_10_PP.csv',\n",
       " 'MERGED2018_19_PP.csv',\n",
       " 'MERGED2017_18_PP.csv',\n",
       " 'MERGED2000_01_PP.csv',\n",
       " 'MERGED2001_02_PP.csv',\n",
       " 'MERGED2016_17_PP.csv',\n",
       " 'MERGED1997_98_PP.csv',\n",
       " 'MERGED1998_99_PP.csv',\n",
       " 'MERGED2004_05_PP.csv',\n",
       " 'MERGED2002_03_PP.csv',\n",
       " 'MERGED2015_16_PP.csv',\n",
       " 'MERGED2013_14_PP.csv',\n",
       " 'MERGED2007_08_PP.csv',\n",
       " 'MERGED2008_09_PP.csv',\n",
       " 'MERGED2010_11_PP.csv']"
      ]
     },
     "execution_count": 22,
     "metadata": {},
     "output_type": "execute_result"
    }
   ],
   "source": [
    "file_list.pop(4)\n",
    "file_list.pop(6)\n",
    "file_list.pop(11)\n",
    "file_list.pop(16)\n",
    "file_list.pop(23)\n",
    "file_list"
   ]
  },
  {
   "cell_type": "code",
   "execution_count": 23,
   "metadata": {},
   "outputs": [
    {
     "data": {
      "text/plain": [
       "23"
      ]
     },
     "execution_count": 23,
     "metadata": {},
     "output_type": "execute_result"
    }
   ],
   "source": [
    "len(file_list)"
   ]
  },
  {
   "cell_type": "code",
   "execution_count": 31,
   "metadata": {
    "id": "ft9Rn1lp6oJG"
   },
   "outputs": [
    {
     "data": {
      "text/plain": [
       "'MERGED2006_07_PP.csv'"
      ]
     },
     "execution_count": 31,
     "metadata": {},
     "output_type": "execute_result"
    }
   ],
   "source": [
    "# 3 - Write code to randomly select one file name out of the 22 files names. \n",
    "# Hint: generate a random integer between 0 and 21 first\n",
    "# Display the file name\n",
    "file = file_list[randint(0,23)]\n",
    "file"
   ]
  },
  {
   "cell_type": "code",
   "execution_count": null,
   "metadata": {
    "id": "DJy1hmWM6oJN"
   },
   "outputs": [],
   "source": [
    "# 4 - Only read the two columns: college name (INSTNM) and in state tution (\"TUITIONFEE_IN\")\n",
    "# from this file into a data frame aand display use info() function to display a summary information\n",
    "column_list = [\"INSTNM\", \"TUITIONFEE_IN\"]\n",
    "MERGEN2006_07_PP = pd.read_csv('CollegeScorecard_Raw_Data/MERGED2006_07_PP.csv',low_memory=False,usecols=column_list)"
   ]
  },
  {
   "cell_type": "code",
   "execution_count": 45,
   "metadata": {},
   "outputs": [
    {
     "data": {
      "text/html": [
       "<div>\n",
       "<style scoped>\n",
       "    .dataframe tbody tr th:only-of-type {\n",
       "        vertical-align: middle;\n",
       "    }\n",
       "\n",
       "    .dataframe tbody tr th {\n",
       "        vertical-align: top;\n",
       "    }\n",
       "\n",
       "    .dataframe thead th {\n",
       "        text-align: right;\n",
       "    }\n",
       "</style>\n",
       "<table border=\"1\" class=\"dataframe\">\n",
       "  <thead>\n",
       "    <tr style=\"text-align: right;\">\n",
       "      <th></th>\n",
       "      <th>INSTNM</th>\n",
       "      <th>TUITIONFEE_IN</th>\n",
       "    </tr>\n",
       "  </thead>\n",
       "  <tbody>\n",
       "    <tr>\n",
       "      <th>0</th>\n",
       "      <td>Community College of the Air Force</td>\n",
       "      <td>NaN</td>\n",
       "    </tr>\n",
       "    <tr>\n",
       "      <th>1</th>\n",
       "      <td>Alabama A &amp; M University</td>\n",
       "      <td>3640.0</td>\n",
       "    </tr>\n",
       "    <tr>\n",
       "      <th>2</th>\n",
       "      <td>University of Alabama at Birmingham</td>\n",
       "      <td>4792.0</td>\n",
       "    </tr>\n",
       "    <tr>\n",
       "      <th>3</th>\n",
       "      <td>Amridge University</td>\n",
       "      <td>6000.0</td>\n",
       "    </tr>\n",
       "    <tr>\n",
       "      <th>4</th>\n",
       "      <td>University of Alabama in Huntsville</td>\n",
       "      <td>4848.0</td>\n",
       "    </tr>\n",
       "    <tr>\n",
       "      <th>...</th>\n",
       "      <td>...</td>\n",
       "      <td>...</td>\n",
       "    </tr>\n",
       "    <tr>\n",
       "      <th>6946</th>\n",
       "      <td>Texas Barber College - Branch Campus #1</td>\n",
       "      <td>NaN</td>\n",
       "    </tr>\n",
       "    <tr>\n",
       "      <th>6947</th>\n",
       "      <td>Texas Barber College - Branch Campus #2</td>\n",
       "      <td>NaN</td>\n",
       "    </tr>\n",
       "    <tr>\n",
       "      <th>6948</th>\n",
       "      <td>Texas Barber Colleges and Hairstyling Schools ...</td>\n",
       "      <td>NaN</td>\n",
       "    </tr>\n",
       "    <tr>\n",
       "      <th>6949</th>\n",
       "      <td>Texas Barber College - Branch Campus #5</td>\n",
       "      <td>NaN</td>\n",
       "    </tr>\n",
       "    <tr>\n",
       "      <th>6950</th>\n",
       "      <td>Texas Barber Colleges and Hairstyling Schools ...</td>\n",
       "      <td>NaN</td>\n",
       "    </tr>\n",
       "  </tbody>\n",
       "</table>\n",
       "<p>6951 rows × 2 columns</p>\n",
       "</div>"
      ],
      "text/plain": [
       "                                                 INSTNM  TUITIONFEE_IN\n",
       "0                    Community College of the Air Force            NaN\n",
       "1                              Alabama A & M University         3640.0\n",
       "2                   University of Alabama at Birmingham         4792.0\n",
       "3                                    Amridge University         6000.0\n",
       "4                   University of Alabama in Huntsville         4848.0\n",
       "...                                                 ...            ...\n",
       "6946            Texas Barber College - Branch Campus #1            NaN\n",
       "6947            Texas Barber College - Branch Campus #2            NaN\n",
       "6948  Texas Barber Colleges and Hairstyling Schools ...            NaN\n",
       "6949            Texas Barber College - Branch Campus #5            NaN\n",
       "6950  Texas Barber Colleges and Hairstyling Schools ...            NaN\n",
       "\n",
       "[6951 rows x 2 columns]"
      ]
     },
     "execution_count": 45,
     "metadata": {},
     "output_type": "execute_result"
    }
   ],
   "source": [
    "MERGEN2006_07_PP"
   ]
  },
  {
   "cell_type": "code",
   "execution_count": 46,
   "metadata": {
    "id": "wU5Ozu106oJR"
   },
   "outputs": [
    {
     "data": {
      "text/plain": [
       "INSTNM              0\n",
       "TUITIONFEE_IN    2750\n",
       "dtype: int64"
      ]
     },
     "execution_count": 46,
     "metadata": {},
     "output_type": "execute_result"
    }
   ],
   "source": [
    "# 5 - Find out how many observations have missing value.\n",
    "MERGEN2006_07_PP.isnull().sum()"
   ]
  },
  {
   "cell_type": "code",
   "execution_count": 47,
   "metadata": {},
   "outputs": [],
   "source": [
    "# 6 - Drop those observations with missing value\n",
    "# Disaply the number of observations afterward\n",
    "MERGEN2006_07_PP.dropna(inplace= True)"
   ]
  },
  {
   "cell_type": "code",
   "execution_count": 48,
   "metadata": {},
   "outputs": [
    {
     "data": {
      "text/html": [
       "<div>\n",
       "<style scoped>\n",
       "    .dataframe tbody tr th:only-of-type {\n",
       "        vertical-align: middle;\n",
       "    }\n",
       "\n",
       "    .dataframe tbody tr th {\n",
       "        vertical-align: top;\n",
       "    }\n",
       "\n",
       "    .dataframe thead th {\n",
       "        text-align: right;\n",
       "    }\n",
       "</style>\n",
       "<table border=\"1\" class=\"dataframe\">\n",
       "  <thead>\n",
       "    <tr style=\"text-align: right;\">\n",
       "      <th></th>\n",
       "      <th>INSTNM</th>\n",
       "      <th>TUITIONFEE_IN</th>\n",
       "    </tr>\n",
       "  </thead>\n",
       "  <tbody>\n",
       "    <tr>\n",
       "      <th>1</th>\n",
       "      <td>Alabama A &amp; M University</td>\n",
       "      <td>3640.0</td>\n",
       "    </tr>\n",
       "    <tr>\n",
       "      <th>2</th>\n",
       "      <td>University of Alabama at Birmingham</td>\n",
       "      <td>4792.0</td>\n",
       "    </tr>\n",
       "    <tr>\n",
       "      <th>3</th>\n",
       "      <td>Amridge University</td>\n",
       "      <td>6000.0</td>\n",
       "    </tr>\n",
       "    <tr>\n",
       "      <th>4</th>\n",
       "      <td>University of Alabama in Huntsville</td>\n",
       "      <td>4848.0</td>\n",
       "    </tr>\n",
       "    <tr>\n",
       "      <th>5</th>\n",
       "      <td>Alabama State University</td>\n",
       "      <td>4008.0</td>\n",
       "    </tr>\n",
       "    <tr>\n",
       "      <th>...</th>\n",
       "      <td>...</td>\n",
       "      <td>...</td>\n",
       "    </tr>\n",
       "    <tr>\n",
       "      <th>6941</th>\n",
       "      <td>Southeastern College-Miami Lakes</td>\n",
       "      <td>12440.0</td>\n",
       "    </tr>\n",
       "    <tr>\n",
       "      <th>6942</th>\n",
       "      <td>Southeastern College-St. Petersburg</td>\n",
       "      <td>12440.0</td>\n",
       "    </tr>\n",
       "    <tr>\n",
       "      <th>6943</th>\n",
       "      <td>McCann School of Business &amp; Technology</td>\n",
       "      <td>10128.0</td>\n",
       "    </tr>\n",
       "    <tr>\n",
       "      <th>6944</th>\n",
       "      <td>McCann School of Business &amp; Technology</td>\n",
       "      <td>10128.0</td>\n",
       "    </tr>\n",
       "    <tr>\n",
       "      <th>6945</th>\n",
       "      <td>McCann School of Business &amp; Technology</td>\n",
       "      <td>10128.0</td>\n",
       "    </tr>\n",
       "  </tbody>\n",
       "</table>\n",
       "<p>4201 rows × 2 columns</p>\n",
       "</div>"
      ],
      "text/plain": [
       "                                      INSTNM  TUITIONFEE_IN\n",
       "1                   Alabama A & M University         3640.0\n",
       "2        University of Alabama at Birmingham         4792.0\n",
       "3                         Amridge University         6000.0\n",
       "4        University of Alabama in Huntsville         4848.0\n",
       "5                   Alabama State University         4008.0\n",
       "...                                      ...            ...\n",
       "6941        Southeastern College-Miami Lakes        12440.0\n",
       "6942     Southeastern College-St. Petersburg        12440.0\n",
       "6943  McCann School of Business & Technology        10128.0\n",
       "6944  McCann School of Business & Technology        10128.0\n",
       "6945  McCann School of Business & Technology        10128.0\n",
       "\n",
       "[4201 rows x 2 columns]"
      ]
     },
     "execution_count": 48,
     "metadata": {},
     "output_type": "execute_result"
    }
   ],
   "source": [
    "MERGEN2006_07_PP"
   ]
  },
  {
   "cell_type": "code",
   "execution_count": 50,
   "metadata": {},
   "outputs": [
    {
     "data": {
      "text/html": [
       "<div>\n",
       "<style scoped>\n",
       "    .dataframe tbody tr th:only-of-type {\n",
       "        vertical-align: middle;\n",
       "    }\n",
       "\n",
       "    .dataframe tbody tr th {\n",
       "        vertical-align: top;\n",
       "    }\n",
       "\n",
       "    .dataframe thead th {\n",
       "        text-align: right;\n",
       "    }\n",
       "</style>\n",
       "<table border=\"1\" class=\"dataframe\">\n",
       "  <thead>\n",
       "    <tr style=\"text-align: right;\">\n",
       "      <th></th>\n",
       "      <th>INSTNM</th>\n",
       "      <th>TUITIONFEE_IN</th>\n",
       "    </tr>\n",
       "  </thead>\n",
       "  <tbody>\n",
       "    <tr>\n",
       "      <th>690</th>\n",
       "      <td>United States Air Force Academy</td>\n",
       "      <td>0.0</td>\n",
       "    </tr>\n",
       "    <tr>\n",
       "      <th>1825</th>\n",
       "      <td>United States Naval Academy</td>\n",
       "      <td>0.0</td>\n",
       "    </tr>\n",
       "    <tr>\n",
       "      <th>2938</th>\n",
       "      <td>United States Merchant Marine Academy</td>\n",
       "      <td>0.0</td>\n",
       "    </tr>\n",
       "    <tr>\n",
       "      <th>2939</th>\n",
       "      <td>United States Military Academy</td>\n",
       "      <td>0.0</td>\n",
       "    </tr>\n",
       "    <tr>\n",
       "      <th>2946</th>\n",
       "      <td>Webb Institute</td>\n",
       "      <td>0.0</td>\n",
       "    </tr>\n",
       "  </tbody>\n",
       "</table>\n",
       "</div>"
      ],
      "text/plain": [
       "                                     INSTNM  TUITIONFEE_IN\n",
       "690         United States Air Force Academy            0.0\n",
       "1825            United States Naval Academy            0.0\n",
       "2938  United States Merchant Marine Academy            0.0\n",
       "2939         United States Military Academy            0.0\n",
       "2946                         Webb Institute            0.0"
      ]
     },
     "execution_count": 50,
     "metadata": {},
     "output_type": "execute_result"
    }
   ],
   "source": [
    "# 7 - Find out how many observations have 0 tution. \n",
    "MERGEN2006_07_PP[MERGEN2006_07_PP['TUITIONFEE_IN']==0.0]"
   ]
  },
  {
   "cell_type": "code",
   "execution_count": 52,
   "metadata": {},
   "outputs": [
    {
     "data": {
      "text/html": [
       "<div>\n",
       "<style scoped>\n",
       "    .dataframe tbody tr th:only-of-type {\n",
       "        vertical-align: middle;\n",
       "    }\n",
       "\n",
       "    .dataframe tbody tr th {\n",
       "        vertical-align: top;\n",
       "    }\n",
       "\n",
       "    .dataframe thead th {\n",
       "        text-align: right;\n",
       "    }\n",
       "</style>\n",
       "<table border=\"1\" class=\"dataframe\">\n",
       "  <thead>\n",
       "    <tr style=\"text-align: right;\">\n",
       "      <th></th>\n",
       "      <th>INSTNM</th>\n",
       "      <th>TUITIONFEE_IN</th>\n",
       "    </tr>\n",
       "  </thead>\n",
       "  <tbody>\n",
       "    <tr>\n",
       "      <th>1</th>\n",
       "      <td>Alabama A &amp; M University</td>\n",
       "      <td>3640.0</td>\n",
       "    </tr>\n",
       "    <tr>\n",
       "      <th>2</th>\n",
       "      <td>University of Alabama at Birmingham</td>\n",
       "      <td>4792.0</td>\n",
       "    </tr>\n",
       "    <tr>\n",
       "      <th>3</th>\n",
       "      <td>Amridge University</td>\n",
       "      <td>6000.0</td>\n",
       "    </tr>\n",
       "    <tr>\n",
       "      <th>4</th>\n",
       "      <td>University of Alabama in Huntsville</td>\n",
       "      <td>4848.0</td>\n",
       "    </tr>\n",
       "    <tr>\n",
       "      <th>5</th>\n",
       "      <td>Alabama State University</td>\n",
       "      <td>4008.0</td>\n",
       "    </tr>\n",
       "    <tr>\n",
       "      <th>...</th>\n",
       "      <td>...</td>\n",
       "      <td>...</td>\n",
       "    </tr>\n",
       "    <tr>\n",
       "      <th>6941</th>\n",
       "      <td>Southeastern College-Miami Lakes</td>\n",
       "      <td>12440.0</td>\n",
       "    </tr>\n",
       "    <tr>\n",
       "      <th>6942</th>\n",
       "      <td>Southeastern College-St. Petersburg</td>\n",
       "      <td>12440.0</td>\n",
       "    </tr>\n",
       "    <tr>\n",
       "      <th>6943</th>\n",
       "      <td>McCann School of Business &amp; Technology</td>\n",
       "      <td>10128.0</td>\n",
       "    </tr>\n",
       "    <tr>\n",
       "      <th>6944</th>\n",
       "      <td>McCann School of Business &amp; Technology</td>\n",
       "      <td>10128.0</td>\n",
       "    </tr>\n",
       "    <tr>\n",
       "      <th>6945</th>\n",
       "      <td>McCann School of Business &amp; Technology</td>\n",
       "      <td>10128.0</td>\n",
       "    </tr>\n",
       "  </tbody>\n",
       "</table>\n",
       "<p>4196 rows × 2 columns</p>\n",
       "</div>"
      ],
      "text/plain": [
       "                                      INSTNM  TUITIONFEE_IN\n",
       "1                   Alabama A & M University         3640.0\n",
       "2        University of Alabama at Birmingham         4792.0\n",
       "3                         Amridge University         6000.0\n",
       "4        University of Alabama in Huntsville         4848.0\n",
       "5                   Alabama State University         4008.0\n",
       "...                                      ...            ...\n",
       "6941        Southeastern College-Miami Lakes        12440.0\n",
       "6942     Southeastern College-St. Petersburg        12440.0\n",
       "6943  McCann School of Business & Technology        10128.0\n",
       "6944  McCann School of Business & Technology        10128.0\n",
       "6945  McCann School of Business & Technology        10128.0\n",
       "\n",
       "[4196 rows x 2 columns]"
      ]
     },
     "execution_count": 52,
     "metadata": {},
     "output_type": "execute_result"
    }
   ],
   "source": [
    "# 8 - Drop those observations with 0 tuition\n",
    "# Disaply the number of observations afterward\n",
    "MERGEN2006_07_PP_NEW = MERGEN2006_07_PP[MERGEN2006_07_PP['TUITIONFEE_IN']!=0.0]\n",
    "MERGEN2006_07_PP_NEW"
   ]
  },
  {
   "cell_type": "code",
   "execution_count": 56,
   "metadata": {},
   "outputs": [
    {
     "data": {
      "text/plain": [
       "10127.099142040039"
      ]
     },
     "execution_count": 56,
     "metadata": {},
     "output_type": "execute_result"
    }
   ],
   "source": [
    "# 9 - Calculate and display the mean (average) of the tuitions of all the remaining observations \n",
    "Average_tuition = MERGEN2006_07_PP_NEW['TUITIONFEE_IN'].mean()\n",
    "Average_tuition"
   ]
  },
  {
   "cell_type": "code",
   "execution_count": 62,
   "metadata": {},
   "outputs": [
    {
     "data": {
      "text/plain": [
       "4608    4220.0\n",
       "Name: TUITIONFEE_IN, dtype: float64"
      ]
     },
     "execution_count": 62,
     "metadata": {},
     "output_type": "execute_result"
    }
   ],
   "source": [
    "# 10 - Randomly select just 1 observation from the data frame.\n",
    "# Display the tuition of that observation.\n",
    "MERGEN2006_07_PP_NEW.sample()['TUITIONFEE_IN']"
   ]
  },
  {
   "cell_type": "code",
   "execution_count": 66,
   "metadata": {
    "id": "2Jio5eDc6oJ0"
   },
   "outputs": [
    {
     "data": {
      "text/plain": [
       "200    277.099142\n",
       "Name: TUITIONFEE_IN, dtype: float64"
      ]
     },
     "execution_count": 66,
     "metadata": {},
     "output_type": "execute_result"
    }
   ],
   "source": [
    "# 11 - Calculate the different between the tuition of this observation and \n",
    "# the mean tuition off all observations calculated earlier.\n",
    "# Display the difference\n",
    "Average_tuition -MERGEN2006_07_PP_NEW.sample()['TUITIONFEE_IN']"
   ]
  },
  {
   "cell_type": "code",
   "execution_count": 64,
   "metadata": {},
   "outputs": [
    {
     "data": {
      "text/plain": [
       "402    10172.900858\n",
       "Name: TUITIONFEE_IN, dtype: float64"
      ]
     },
     "execution_count": 64,
     "metadata": {},
     "output_type": "execute_result"
    }
   ],
   "source": [
    "# 12 - Repeat 10 to 11 several times get the feel of the size of the difference in means\n",
    "MERGEN2006_07_PP_NEW.sample()['TUITIONFEE_IN'] - Average_tuition"
   ]
  },
  {
   "cell_type": "code",
   "execution_count": 65,
   "metadata": {},
   "outputs": [
    {
     "data": {
      "text/plain": [
       "3636    3302.900858\n",
       "Name: TUITIONFEE_IN, dtype: float64"
      ]
     },
     "execution_count": 65,
     "metadata": {},
     "output_type": "execute_result"
    }
   ],
   "source": [
    "MERGEN2006_07_PP_NEW.sample()['TUITIONFEE_IN'] - Average_tuition"
   ]
  },
  {
   "cell_type": "code",
   "execution_count": 67,
   "metadata": {},
   "outputs": [
    {
     "data": {
      "text/plain": [
       "1729    18012.900858\n",
       "Name: TUITIONFEE_IN, dtype: float64"
      ]
     },
     "execution_count": 67,
     "metadata": {},
     "output_type": "execute_result"
    }
   ],
   "source": [
    "MERGEN2006_07_PP_NEW.sample()['TUITIONFEE_IN'] - Average_tuition"
   ]
  },
  {
   "cell_type": "code",
   "execution_count": 68,
   "metadata": {},
   "outputs": [
    {
     "data": {
      "text/plain": [
       "2391   -7347.099142\n",
       "Name: TUITIONFEE_IN, dtype: float64"
      ]
     },
     "execution_count": 68,
     "metadata": {},
     "output_type": "execute_result"
    }
   ],
   "source": [
    "MERGEN2006_07_PP_NEW.sample()['TUITIONFEE_IN'] - Average_tuition"
   ]
  },
  {
   "cell_type": "code",
   "execution_count": 69,
   "metadata": {},
   "outputs": [
    {
     "data": {
      "text/plain": [
       "82    72.900858\n",
       "Name: TUITIONFEE_IN, dtype: float64"
      ]
     },
     "execution_count": 69,
     "metadata": {},
     "output_type": "execute_result"
    }
   ],
   "source": [
    "MERGEN2006_07_PP_NEW.sample()['TUITIONFEE_IN'] - Average_tuition"
   ]
  },
  {
   "cell_type": "code",
   "execution_count": 70,
   "metadata": {},
   "outputs": [
    {
     "data": {
      "text/plain": [
       "4035   -8471.099142\n",
       "Name: TUITIONFEE_IN, dtype: float64"
      ]
     },
     "execution_count": 70,
     "metadata": {},
     "output_type": "execute_result"
    }
   ],
   "source": [
    "MERGEN2006_07_PP_NEW.sample()['TUITIONFEE_IN'] - Average_tuition"
   ]
  },
  {
   "cell_type": "code",
   "execution_count": 71,
   "metadata": {},
   "outputs": [
    {
     "data": {
      "text/plain": [
       "4332    14372.900858\n",
       "Name: TUITIONFEE_IN, dtype: float64"
      ]
     },
     "execution_count": 71,
     "metadata": {},
     "output_type": "execute_result"
    }
   ],
   "source": [
    "MERGEN2006_07_PP_NEW.sample()['TUITIONFEE_IN'] - Average_tuition"
   ]
  },
  {
   "cell_type": "code",
   "execution_count": 72,
   "metadata": {},
   "outputs": [
    {
     "data": {
      "text/plain": [
       "3838   -7295.099142\n",
       "Name: TUITIONFEE_IN, dtype: float64"
      ]
     },
     "execution_count": 72,
     "metadata": {},
     "output_type": "execute_result"
    }
   ],
   "source": [
    "MERGEN2006_07_PP_NEW.sample()['TUITIONFEE_IN'] - Average_tuition"
   ]
  },
  {
   "cell_type": "code",
   "execution_count": 73,
   "metadata": {},
   "outputs": [
    {
     "data": {
      "text/plain": [
       "725    7440.900858\n",
       "Name: TUITIONFEE_IN, dtype: float64"
      ]
     },
     "execution_count": 73,
     "metadata": {},
     "output_type": "execute_result"
    }
   ],
   "source": [
    "MERGEN2006_07_PP_NEW.sample()['TUITIONFEE_IN'] - Average_tuition"
   ]
  },
  {
   "cell_type": "code",
   "execution_count": 74,
   "metadata": {},
   "outputs": [
    {
     "data": {
      "text/plain": [
       "3429   -7169.099142\n",
       "Name: TUITIONFEE_IN, dtype: float64"
      ]
     },
     "execution_count": 74,
     "metadata": {},
     "output_type": "execute_result"
    }
   ],
   "source": [
    "MERGEN2006_07_PP_NEW.sample()['TUITIONFEE_IN'] - Average_tuition"
   ]
  },
  {
   "cell_type": "code",
   "execution_count": 75,
   "metadata": {},
   "outputs": [
    {
     "data": {
      "text/plain": [
       "1460   -6527.099142\n",
       "Name: TUITIONFEE_IN, dtype: float64"
      ]
     },
     "execution_count": 75,
     "metadata": {},
     "output_type": "execute_result"
    }
   ],
   "source": [
    "MERGEN2006_07_PP_NEW.sample()['TUITIONFEE_IN'] - Average_tuition"
   ]
  },
  {
   "cell_type": "code",
   "execution_count": 76,
   "metadata": {},
   "outputs": [
    {
     "data": {
      "text/html": [
       "<div>\n",
       "<style scoped>\n",
       "    .dataframe tbody tr th:only-of-type {\n",
       "        vertical-align: middle;\n",
       "    }\n",
       "\n",
       "    .dataframe tbody tr th {\n",
       "        vertical-align: top;\n",
       "    }\n",
       "\n",
       "    .dataframe thead th {\n",
       "        text-align: right;\n",
       "    }\n",
       "</style>\n",
       "<table border=\"1\" class=\"dataframe\">\n",
       "  <thead>\n",
       "    <tr style=\"text-align: right;\">\n",
       "      <th></th>\n",
       "      <th>INSTNM</th>\n",
       "      <th>TUITIONFEE_IN</th>\n",
       "    </tr>\n",
       "  </thead>\n",
       "  <tbody>\n",
       "    <tr>\n",
       "      <th>1061</th>\n",
       "      <td>Hawaii Pacific University</td>\n",
       "      <td>12312.0</td>\n",
       "    </tr>\n",
       "    <tr>\n",
       "      <th>4339</th>\n",
       "      <td>Roanoke College</td>\n",
       "      <td>24653.0</td>\n",
       "    </tr>\n",
       "    <tr>\n",
       "      <th>1449</th>\n",
       "      <td>Northwest Iowa Community College</td>\n",
       "      <td>3810.0</td>\n",
       "    </tr>\n",
       "    <tr>\n",
       "      <th>3382</th>\n",
       "      <td>Spartan College of Aeronautics and Technology</td>\n",
       "      <td>12600.0</td>\n",
       "    </tr>\n",
       "    <tr>\n",
       "      <th>1012</th>\n",
       "      <td>Lanier Technical College</td>\n",
       "      <td>1386.0</td>\n",
       "    </tr>\n",
       "    <tr>\n",
       "      <th>1438</th>\n",
       "      <td>Luther College</td>\n",
       "      <td>26380.0</td>\n",
       "    </tr>\n",
       "    <tr>\n",
       "      <th>1583</th>\n",
       "      <td>Kentucky Wesleyan College</td>\n",
       "      <td>13200.0</td>\n",
       "    </tr>\n",
       "    <tr>\n",
       "      <th>6662</th>\n",
       "      <td>SUM Bible College and Theological Seminary</td>\n",
       "      <td>6180.0</td>\n",
       "    </tr>\n",
       "    <tr>\n",
       "      <th>3659</th>\n",
       "      <td>Pennsylvania State University-Penn State Erie-...</td>\n",
       "      <td>10958.0</td>\n",
       "    </tr>\n",
       "    <tr>\n",
       "      <th>1371</th>\n",
       "      <td>Purdue University-Calumet Campus</td>\n",
       "      <td>5509.0</td>\n",
       "    </tr>\n",
       "    <tr>\n",
       "      <th>5106</th>\n",
       "      <td>Crown College</td>\n",
       "      <td>7885.0</td>\n",
       "    </tr>\n",
       "    <tr>\n",
       "      <th>3827</th>\n",
       "      <td>Horry-Georgetown Technical College</td>\n",
       "      <td>2944.0</td>\n",
       "    </tr>\n",
       "    <tr>\n",
       "      <th>4460</th>\n",
       "      <td>University of Charleston</td>\n",
       "      <td>21000.0</td>\n",
       "    </tr>\n",
       "    <tr>\n",
       "      <th>3751</th>\n",
       "      <td>Fortis Institute-Erie</td>\n",
       "      <td>13970.0</td>\n",
       "    </tr>\n",
       "    <tr>\n",
       "      <th>1818</th>\n",
       "      <td>Sojourner-Douglass College</td>\n",
       "      <td>6740.0</td>\n",
       "    </tr>\n",
       "    <tr>\n",
       "      <th>2627</th>\n",
       "      <td>Globe Institute of Technology</td>\n",
       "      <td>9136.0</td>\n",
       "    </tr>\n",
       "    <tr>\n",
       "      <th>6942</th>\n",
       "      <td>Southeastern College-St. Petersburg</td>\n",
       "      <td>12440.0</td>\n",
       "    </tr>\n",
       "    <tr>\n",
       "      <th>6896</th>\n",
       "      <td>M State - Wadena Campus</td>\n",
       "      <td>4826.0</td>\n",
       "    </tr>\n",
       "    <tr>\n",
       "      <th>2533</th>\n",
       "      <td>Eastwick College-Ramsey</td>\n",
       "      <td>7800.0</td>\n",
       "    </tr>\n",
       "    <tr>\n",
       "      <th>5362</th>\n",
       "      <td>Pickaway Ross Joint Vocational School District</td>\n",
       "      <td>4600.0</td>\n",
       "    </tr>\n",
       "  </tbody>\n",
       "</table>\n",
       "</div>"
      ],
      "text/plain": [
       "                                                 INSTNM  TUITIONFEE_IN\n",
       "1061                          Hawaii Pacific University        12312.0\n",
       "4339                                    Roanoke College        24653.0\n",
       "1449                   Northwest Iowa Community College         3810.0\n",
       "3382      Spartan College of Aeronautics and Technology        12600.0\n",
       "1012                           Lanier Technical College         1386.0\n",
       "1438                                     Luther College        26380.0\n",
       "1583                          Kentucky Wesleyan College        13200.0\n",
       "6662         SUM Bible College and Theological Seminary         6180.0\n",
       "3659  Pennsylvania State University-Penn State Erie-...        10958.0\n",
       "1371                   Purdue University-Calumet Campus         5509.0\n",
       "5106                                      Crown College         7885.0\n",
       "3827                 Horry-Georgetown Technical College         2944.0\n",
       "4460                           University of Charleston        21000.0\n",
       "3751                              Fortis Institute-Erie        13970.0\n",
       "1818                         Sojourner-Douglass College         6740.0\n",
       "2627                      Globe Institute of Technology         9136.0\n",
       "6942                Southeastern College-St. Petersburg        12440.0\n",
       "6896                            M State - Wadena Campus         4826.0\n",
       "2533                            Eastwick College-Ramsey         7800.0\n",
       "5362     Pickaway Ross Joint Vocational School District         4600.0"
      ]
     },
     "execution_count": 76,
     "metadata": {},
     "output_type": "execute_result"
    }
   ],
   "source": [
    "# 13 - Randomly select 20 observations, display the tuition of these observation. \n",
    "MERGEN2006_07_PP_NEW.sample(20)"
   ]
  },
  {
   "cell_type": "code",
   "execution_count": 77,
   "metadata": {},
   "outputs": [
    {
     "data": {
      "text/plain": [
       "13075.7"
      ]
     },
     "execution_count": 77,
     "metadata": {},
     "output_type": "execute_result"
    }
   ],
   "source": [
    "# 14 - Calculate and display the mean tuition of these 20 observations\n",
    "MERGEN2006_07_PP_NEW.sample(20)['TUITIONFEE_IN'].mean()"
   ]
  },
  {
   "cell_type": "code",
   "execution_count": 78,
   "metadata": {},
   "outputs": [
    {
     "data": {
      "text/plain": [
       "1374.6508579599613"
      ]
     },
     "execution_count": 78,
     "metadata": {},
     "output_type": "execute_result"
    }
   ],
   "source": [
    "# 15 - Calculate  the different between the average tuition of these 20 observations \n",
    "# and the mean tuition off all observations calculated earlier.\n",
    "# Display the difference\n",
    "\n",
    "MERGEN2006_07_PP_NEW.sample(20)['TUITIONFEE_IN'].mean() - Average_tuition"
   ]
  },
  {
   "cell_type": "code",
   "execution_count": 79,
   "metadata": {},
   "outputs": [
    {
     "data": {
      "text/plain": [
       "-524.6991420400391"
      ]
     },
     "execution_count": 79,
     "metadata": {},
     "output_type": "execute_result"
    }
   ],
   "source": [
    "MERGEN2006_07_PP_NEW.sample(20)['TUITIONFEE_IN'].mean() - Average_tuition"
   ]
  },
  {
   "cell_type": "code",
   "execution_count": 80,
   "metadata": {},
   "outputs": [
    {
     "data": {
      "text/plain": [
       "-291.24914204003835"
      ]
     },
     "execution_count": 80,
     "metadata": {},
     "output_type": "execute_result"
    }
   ],
   "source": [
    "MERGEN2006_07_PP_NEW.sample(20)['TUITIONFEE_IN'].mean() - Average_tuition"
   ]
  },
  {
   "cell_type": "code",
   "execution_count": 81,
   "metadata": {},
   "outputs": [
    {
     "data": {
      "text/plain": [
       "2080.300857959961"
      ]
     },
     "execution_count": 81,
     "metadata": {},
     "output_type": "execute_result"
    }
   ],
   "source": [
    "MERGEN2006_07_PP_NEW.sample(20)['TUITIONFEE_IN'].mean() - Average_tuition"
   ]
  },
  {
   "cell_type": "code",
   "execution_count": 82,
   "metadata": {},
   "outputs": [
    {
     "data": {
      "text/plain": [
       "143.20085795996056"
      ]
     },
     "execution_count": 82,
     "metadata": {},
     "output_type": "execute_result"
    }
   ],
   "source": [
    "MERGEN2006_07_PP_NEW.sample(20)['TUITIONFEE_IN'].mean() - Average_tuition"
   ]
  },
  {
   "cell_type": "code",
   "execution_count": 83,
   "metadata": {},
   "outputs": [
    {
     "data": {
      "text/plain": [
       "-2014.899142040039"
      ]
     },
     "execution_count": 83,
     "metadata": {},
     "output_type": "execute_result"
    }
   ],
   "source": [
    "MERGEN2006_07_PP_NEW.sample(20)['TUITIONFEE_IN'].mean() - Average_tuition"
   ]
  },
  {
   "cell_type": "code",
   "execution_count": 84,
   "metadata": {},
   "outputs": [
    {
     "data": {
      "text/plain": [
       "197.100857959962"
      ]
     },
     "execution_count": 84,
     "metadata": {},
     "output_type": "execute_result"
    }
   ],
   "source": [
    "MERGEN2006_07_PP_NEW.sample(20)['TUITIONFEE_IN'].mean() - Average_tuition"
   ]
  },
  {
   "cell_type": "code",
   "execution_count": 85,
   "metadata": {},
   "outputs": [
    {
     "data": {
      "text/plain": [
       "600.4508579599606"
      ]
     },
     "execution_count": 85,
     "metadata": {},
     "output_type": "execute_result"
    }
   ],
   "source": [
    "MERGEN2006_07_PP_NEW.sample(20)['TUITIONFEE_IN'].mean() - Average_tuition"
   ]
  },
  {
   "cell_type": "code",
   "execution_count": 86,
   "metadata": {},
   "outputs": [
    {
     "data": {
      "text/plain": [
       "-130.79914204003944"
      ]
     },
     "execution_count": 86,
     "metadata": {},
     "output_type": "execute_result"
    }
   ],
   "source": [
    "MERGEN2006_07_PP_NEW.sample(20)['TUITIONFEE_IN'].mean() - Average_tuition"
   ]
  },
  {
   "cell_type": "code",
   "execution_count": 87,
   "metadata": {},
   "outputs": [
    {
     "data": {
      "text/plain": [
       "-2411.649142040039"
      ]
     },
     "execution_count": 87,
     "metadata": {},
     "output_type": "execute_result"
    }
   ],
   "source": [
    "MERGEN2006_07_PP_NEW.sample(20)['TUITIONFEE_IN'].mean() - Average_tuition"
   ]
  },
  {
   "cell_type": "code",
   "execution_count": 88,
   "metadata": {},
   "outputs": [
    {
     "data": {
      "text/plain": [
       "-1907.449142040039"
      ]
     },
     "execution_count": 88,
     "metadata": {},
     "output_type": "execute_result"
    }
   ],
   "source": [
    "MERGEN2006_07_PP_NEW.sample(20)['TUITIONFEE_IN'].mean() - Average_tuition"
   ]
  },
  {
   "cell_type": "code",
   "execution_count": 89,
   "metadata": {},
   "outputs": [
    {
     "data": {
      "text/plain": [
       "-1427.0491420400394"
      ]
     },
     "execution_count": 89,
     "metadata": {},
     "output_type": "execute_result"
    }
   ],
   "source": [
    "MERGEN2006_07_PP_NEW.sample(20)['TUITIONFEE_IN'].mean() - Average_tuition"
   ]
  },
  {
   "cell_type": "code",
   "execution_count": 90,
   "metadata": {},
   "outputs": [
    {
     "data": {
      "text/plain": [
       "-2787.699142040039"
      ]
     },
     "execution_count": 90,
     "metadata": {},
     "output_type": "execute_result"
    }
   ],
   "source": [
    "MERGEN2006_07_PP_NEW.sample(20)['TUITIONFEE_IN'].mean() - Average_tuition"
   ]
  },
  {
   "cell_type": "code",
   "execution_count": 91,
   "metadata": {},
   "outputs": [
    {
     "data": {
      "text/plain": [
       "-1268.949142040039"
      ]
     },
     "execution_count": 91,
     "metadata": {},
     "output_type": "execute_result"
    }
   ],
   "source": [
    "MERGEN2006_07_PP_NEW.sample(20)['TUITIONFEE_IN'].mean() - Average_tuition"
   ]
  },
  {
   "cell_type": "code",
   "execution_count": 92,
   "metadata": {},
   "outputs": [
    {
     "data": {
      "text/plain": [
       "2470.9008579599613"
      ]
     },
     "execution_count": 92,
     "metadata": {},
     "output_type": "execute_result"
    }
   ],
   "source": [
    "MERGEN2006_07_PP_NEW.sample(20)['TUITIONFEE_IN'].mean() - Average_tuition"
   ]
  },
  {
   "cell_type": "code",
   "execution_count": 93,
   "metadata": {},
   "outputs": [
    {
     "data": {
      "text/plain": [
       "1698.7508579599616"
      ]
     },
     "execution_count": 93,
     "metadata": {},
     "output_type": "execute_result"
    }
   ],
   "source": [
    "MERGEN2006_07_PP_NEW.sample(20)['TUITIONFEE_IN'].mean() - Average_tuition"
   ]
  },
  {
   "cell_type": "code",
   "execution_count": 94,
   "metadata": {},
   "outputs": [
    {
     "data": {
      "text/plain": [
       "3245.2008579599606"
      ]
     },
     "execution_count": 94,
     "metadata": {},
     "output_type": "execute_result"
    }
   ],
   "source": [
    "MERGEN2006_07_PP_NEW.sample(20)['TUITIONFEE_IN'].mean() - Average_tuition"
   ]
  },
  {
   "cell_type": "code",
   "execution_count": 95,
   "metadata": {},
   "outputs": [
    {
     "data": {
      "text/plain": [
       "483.45085795996056"
      ]
     },
     "execution_count": 95,
     "metadata": {},
     "output_type": "execute_result"
    }
   ],
   "source": [
    "MERGEN2006_07_PP_NEW.sample(20)['TUITIONFEE_IN'].mean() - Average_tuition"
   ]
  },
  {
   "cell_type": "code",
   "execution_count": 96,
   "metadata": {
    "id": "V7xgI6GU6oKH"
   },
   "outputs": [],
   "source": [
    "# 16 - Repeat 13 to 15 several times and get the feel of the size of the difference in means \n",
    "# Compare these differences with the differences calculated earlier with just 1 observation\n",
    "# Describe your hunch/conclusion"
   ]
  },
  {
   "cell_type": "markdown",
   "metadata": {
    "id": "0i4lLySc6oKK"
   },
   "source": [
    "Write a function that take two input parameters:\n",
    "- x (number of observations) \n",
    "- y (the name of the dataframe). \n",
    "\n",
    "The function will perform the following: \n",
    "- Randomly select x observations from y\n",
    "- Calculate the mean of these x observations \n",
    "- Calculate the mean of all observations\n",
    "- Calculate the difference between the two means \n",
    "- Return the difference"
   ]
  },
  {
   "cell_type": "code",
   "execution_count": 99,
   "metadata": {
    "id": "ZblkuSq46oKL"
   },
   "outputs": [],
   "source": [
    "# 17 - write function Code here\n",
    "\n",
    "def difference(x,y):   \n",
    "        #y = MERGEN2006_07_PP_NEW\n",
    "       # y.sample(x)['TUITIONFEE_IN'].mean()\n",
    "    #y.sample(x)['TUITIONFEE_IN'].mean()\n",
    "    return y.sample(x)['TUITIONFEE_IN'].mean() - y['TUITIONFEE_IN'].mean()           "
   ]
  },
  {
   "cell_type": "code",
   "execution_count": 100,
   "metadata": {
    "id": "rCtsaGCy6oKN"
   },
   "outputs": [
    {
     "data": {
      "text/plain": [
       "-2023.0991420400387"
      ]
     },
     "execution_count": 100,
     "metadata": {},
     "output_type": "execute_result"
    }
   ],
   "source": [
    "# 18 - test the function by passing a sample size and the name of the dataframe\n",
    "# Display the return of the function\n",
    "difference(2,MERGEN2006_07_PP_NEW)"
   ]
  },
  {
   "cell_type": "code",
   "execution_count": 106,
   "metadata": {
    "id": "0I58wyGH6oKP"
   },
   "outputs": [
    {
     "data": {
      "text/plain": [
       "[1,\n",
       " 2,\n",
       " 3,\n",
       " 4,\n",
       " 5,\n",
       " 6,\n",
       " 7,\n",
       " 8,\n",
       " 9,\n",
       " 10,\n",
       " 11,\n",
       " 12,\n",
       " 13,\n",
       " 14,\n",
       " 15,\n",
       " 16,\n",
       " 17,\n",
       " 18,\n",
       " 19,\n",
       " 20,\n",
       " 21,\n",
       " 22,\n",
       " 23,\n",
       " 24,\n",
       " 25,\n",
       " 26,\n",
       " 27,\n",
       " 28,\n",
       " 29,\n",
       " 30,\n",
       " 31,\n",
       " 32,\n",
       " 33,\n",
       " 34,\n",
       " 35,\n",
       " 36,\n",
       " 37,\n",
       " 38,\n",
       " 39,\n",
       " 40,\n",
       " 41,\n",
       " 42,\n",
       " 43,\n",
       " 44,\n",
       " 45,\n",
       " 46,\n",
       " 47,\n",
       " 48,\n",
       " 49,\n",
       " 50]"
      ]
     },
     "execution_count": 106,
     "metadata": {},
     "output_type": "execute_result"
    }
   ],
   "source": [
    "# 19 - Create a list of sequence numbers from 1 to 50, name it \"sample_sizes\";\n",
    "# display it to make sure its members are from 1 to 50\n",
    "sample_sizes = list(range(1, 51))\n",
    "sample_sizes"
   ]
  },
  {
   "cell_type": "code",
   "execution_count": 107,
   "metadata": {},
   "outputs": [
    {
     "name": "stdout",
     "output_type": "stream",
     "text": [
      "[2272.9008579599613, 416.4008579599613, 3585.234191293295, -45.599142040038714, 5134.900857959961, 962.2341912932952, -1810.813427754325, -2689.0991420400387, 2602.234191293295, -21.99914204003835, 150.80994886905137, 1983.0675246266273, 1266.6700887291918, 3608.1151436742475, 1529.0341912932945, -4091.9116420400387, -574.7462008635684, -67.71025315115003, 2246.585068486276, -1544.899142040038, -1612.146761087657, 3437.3554034145072, -3145.6208811704737, 304.56752462662735, 511.9808579599612, 537.0931656522698, -1398.543586484484, 950.5794293885319, -2536.133624798659, -1035.2658087067048, -457.9701097819743, 600.6196079599613, -2790.2809602218567, 2977.459681489374, 519.8437151028193, -861.793586484484, -1218.2613042022003, -1214.0991420400387, -30.227347168243796, -1782.4241420400394, -2553.245483503453, -2641.3610468019433, 843.9241137739155, 246.26449432359732, 680.2564135155171, 738.2052057860474, -335.6097803379107, 44.088357959961286, 289.65596000077676, 2399.7408579599614]\n"
     ]
    }
   ],
   "source": [
    "# 20 - Create an empty list and name it \"means_diff\" for differences of population mean and sample means;\n",
    "# Loop through the list sample_sizes:\n",
    "# For each element in the sample size list, obtain a random sample of that size from the data frame;\n",
    "# Calculate the sample mean \n",
    "# Calculate the difference between the population mean and the sample mean\n",
    "# Append the difference to the list \"means_diff\"\n",
    "# Display the list \"means_diff\" after the loop is completed\n",
    "\n",
    "means_diff = []\n",
    "for i in sample_sizes:\n",
    "    means_diff.append(difference(i,MERGEN2006_07_PP_NEW))\n",
    "print(means_diff)"
   ]
  },
  {
   "cell_type": "code",
   "execution_count": 110,
   "metadata": {},
   "outputs": [
    {
     "data": {
      "text/plain": [
       "<matplotlib.collections.PathCollection at 0x123900d50>"
      ]
     },
     "execution_count": 110,
     "metadata": {},
     "output_type": "execute_result"
    },
    {
     "data": {
      "image/png": "[encoded data removed]",
      "text/plain": [
       "<Figure size 720x576 with 1 Axes>"
      ]
     },
     "metadata": {
      "needs_background": "light"
     },
     "output_type": "display_data"
    }
   ],
   "source": [
    "# 21 - Make a scatter plot with sample size on the x-axs and  mean difference on the y-axis\n",
    "# Observe as the sample size increases, the sample means converge to the population mean.\n",
    "# Make sure you make the plot large enough\n",
    "plt.figure(figsize=(10, 8))\n",
    "plt.scatter(x = sample_sizes, y = means_diff)"
   ]
  },
  {
   "cell_type": "code",
   "execution_count": 111,
   "metadata": {},
   "outputs": [
    {
     "name": "stdout",
     "output_type": "stream",
     "text": [
      "[312.9008579599613, -4130.099142040039, -3650.0991420400387, 7084.650857959961, 3129.7008579599606, 3951.234191293295, -2087.813427754324, -901.3491420400387, -224.43247537337265, -1641.699142040039, 836.9008579599613, 5432.817524626627, 988.3623964215003, -977.9562848971818, 1852.300857959961, 1763.7133579599613, -46.98149498121529, -405.43247537337265, -1772.941247303197, -1221.4991420400384, -1880.480094420991, -1661.7355056764027, 1672.4225970903954, 302.8591912932952, -2224.2591420400386, -2680.060680501577, 928.7527098118135, 1304.7580008171044, 293.7629269254794, -1477.2991420400394, -207.5507549432641, 1266.5571079599613, 1798.5372215963253, -1286.040318510626, -2593.4419991828954, -1635.8491420400387, 2404.252209311313, -266.70440519793374, -167.8683728092692, 2848.425857959961, 2363.8032969843516, -720.6705706114681, 1420.0869044715892, -594.8491420400387, 250.56752462662735, -91.72957682264678, 1005.5391558323008, -976.8699753733727, 1868.4314702048596, 1336.7608579599619, 1426.9400736462358, -758.2722189631149, 2103.9008579599613, -403.8769198178161, 29.537221596325253, -2005.3669991828956, 1982.4622614687323, 296.8491338220301, -229.64151492139536, 726.3341912932938, 496.2123333697982, 74.61053537931548, 284.2341912932952, 1021.9008579599613, -1212.114526655423, 1165.7038882629913, -408.1289927863072, 1071.0332109011379, 377.3211478150333, 204.51514367424716, 480.0276185233415, -1103.1130309289274, 1008.5446935763994, -26.761304202200336, -67.89914204003799, -758.3622999347754, -590.995245936143, -478.39401383490986, -125.21306609067142, -620.3491420400387, 402.11073450317053, 966.083784789229, 310.94905073104565, 949.3889531980567, -366.96973027533204, 2137.958997494845, 715.2112027875482, 195.79858523268922, -948.9306027141956, -742.1658087067062, 398.99975905886276, -833.2187072574307, -817.0561312873506, -11.35446118897562, -694.7938788821448, 221.6821079599613, 331.85962084655876, -1087.313427754325, -1258.846616787514, -752.6391420400396, 1666.7721450886747, -303.58933811847055, -777.9923459235342, 810.2085502676528, 1467.5580008171037, -788.0048024173975, 462.7606710440741, 1767.5860431451456, -361.7229952510479, 61.97358523268849, 586.1711282302313, -1325.5277134686094, 88.82121194226238, -1114.4851069523193, 361.28346665561367, -221.18534893659125, 164.5333365924398, -446.9381250908864, 805.9932949347512, -546.5908087067055, 821.1074695302086, 329.55659566487884, -1043.3186542351614, 175.36859989544428, -174.30714204003925, -975.543586484484, 206.0583382749228, -561.2632045400387, -29.19991723383646, -1099.699142040039, 229.08406406683207, 40.2720700811733, 590.2166474336464, -539.4125748758597, 273.9230801821832, 96.60674031290182, 1001.3680112446327, -172.95421450380672, -1799.0703650616215, -754.6562848971807, -1650.8012696996138, 324.49944950925783, -462.84739378829, 9.199469071072599, -834.8232799710731, -246.20873108113483, 253.58113006880558, -56.889682580578665, -1066.3877326440652, 517.9275246266279, 68.15913610565622, -305.5925630926704, -356.6873773341558, 77.5242345833376, -1108.5443033303618, 446.33675539585784, 338.03461592174426, -929.6940787489002, 1079.9951975826025, -793.805392040038, 660.4847088916376, 315.1169073426772, 501.50208495382685, -260.0686542351614, 189.0947973539005, 49.63579771899822, -306.57219593225454, 201.35323891234293, 509.61683429132245, -892.7638479223915, 428.1289281354002, -663.8723978539929, -989.8448067799236, 549.2686740519148, 791.11228653139, -782.2639147673108, -260.59631718128185, -524.3519510288024, 95.40365125605058, 396.2230801821843, -345.4969320952878, -292.19254863344577, -493.2849343897651, 355.2541188295272, -4.174817715715108, 861.1858041965206, 258.5746547514045, 121.3476664705995, 882.117789176893, 1402.0324369073296, -1129.303330521714, -64.76060037337265, 67.548526353743, 26.37508476408584, -731.8170907579879, -688.7266930604474, 65.4693858787432, 758.9816660407687, -799.4659762108931, -28.74914204003835, -598.1687937813331, -215.8516172875643, 390.2949466299124, -564.7118871380771, -440.5235322839417, -1097.822443010913, -23.88175073569073, 369.4200887291918, -247.57761093956105, 107.15800081710404, -897.9522226087593, -496.82555713437796, 607.8820786172382, 640.4055308571569, -322.1596071563181, 345.36845055255435, -451.8410775239099, -161.3101512143512, 234.71364334809005, -618.4264147673111, -104.81859905361307, -595.0360789769747, 511.27753957431196, 57.96782224567505, -89.52136426226025, 948.8610349511109, 39.381034171414285, 1230.7122614687323, -131.95940404877183, 863.6617275251792, 817.4419835010867, 1084.0560303737548, -69.00472143917978, -857.1589710998669, 163.6200068961316, -701.9254132264796, -94.0485091286464, 799.3084209851713, 260.8297282528474, 202.88835795996056, 56.191314391497144, -22.409059395409713, -238.69173463263178, 690.8434809107803, -216.6460808155498, -313.091011958737, 1073.9656352878974, 700.4815031212511, -443.8260496705607, -515.435142040038, -270.6170703268908, 1109.6786357377387, -600.2611973760067, 685.341802841851, -291.59718125572545, 257.7563267099613, -741.3637334797277, -1062.5952660710464, -346.7400686809651, 499.804704113807, -527.8654255649435, 1043.5382625401144, -384.9926781617123, -40.95899052488676, 357.51595229958366, -140.70064579943755, -24.091651403334254, -391.17003756242593, -413.8686587686625, -49.86951241040879, -1099.0511715603334, 133.0515932540784, -294.11745705835347, -234.71957999624283, -144.69914204003908, 1369.3392637570632, -366.70564023498446, 618.2569730678752, -42.238926986276056, -157.65271346860936, 300.12505724821676, 1098.5391558323008, -214.03553779975664, 627.2987452839043, -671.1517736189853, 1249.295962855067, -571.8343336776688, 453.8418301821839, 581.7728302782998, 205.1249958909957, 692.4816139737068, -300.65736121812006, 208.92133577566165, -503.9596862577255, -136.821175938343, 251.2758579599613, 620.7729118320149, -108.69645747628056, -628.7011487290019]\n"
     ]
    }
   ],
   "source": [
    "# 22 - repeat 18 to 21 by replacing 50 with a larger number. For example, 300, or even 1000.\n",
    "# and see how the plot looks.\n",
    "sample_sizes = list(range(1, 300))\n",
    "means_diff = []\n",
    "for i in sample_sizes:\n",
    "    means_diff.append(difference(i,MERGEN2006_07_PP_NEW))\n",
    "print(means_diff)"
   ]
  },
  {
   "cell_type": "code",
   "execution_count": 112,
   "metadata": {},
   "outputs": [
    {
     "data": {
      "text/plain": [
       "<matplotlib.collections.PathCollection at 0x123d05d50>"
      ]
     },
     "execution_count": 112,
     "metadata": {},
     "output_type": "execute_result"
    },
    {
     "data": {
      "image/png": "[encoded data removed]",
      "text/plain": [
       "<Figure size 720x576 with 1 Axes>"
      ]
     },
     "metadata": {
      "needs_background": "light"
     },
     "output_type": "display_data"
    }
   ],
   "source": [
    "plt.figure(figsize=(10, 8))\n",
    "plt.scatter(x = sample_sizes, y = means_diff)"
   ]
  },
  {
   "cell_type": "code",
   "execution_count": 113,
   "metadata": {},
   "outputs": [
    {
     "name": "stdout",
     "output_type": "stream",
     "text": [
      "[-6694.099142040039, -5635.599142040039, -2602.0991420400387, 16210.400857959961, -3084.0991420400387, -1512.2658087067048, -3851.956284897182, 11.400857959961286, 2504.5675246266273, -2539.199142040039, 292.9008579599613, -2551.6824753733717, -4136.868372809269, 691.686572245675, -2681.4324753733717, -1051.8491420400387, 2966.136152077608, 237.95641351551603, 1037.6903316441712, 674.7508579599616, -2086.622951563848, 687.1281306872334, 2012.5965101338752, -549.3908087067048, -74.81914204003806, 1352.8623964215003, -2853.876919817816, -3368.2777134686103, -495.20259031590103, 2382.0341912932945, 696.4492450567359, 29.869607959961286, -41.03853597943271, -1681.8344361576856, -2315.899142040039, -1093.2658087067048, -1491.6667096076071, 536.5587526968029, 599.1059861650901, 260.5258579599613, -965.3186542351614, 1515.9008579599613, 1809.76132307624, 751.8099488690514, -501.8324753733723, -2121.6426203009087, 2056.028517534429, -235.45330870670477, 1288.6967763273078, -894.4991420400384, 1201.959681489374, 2124.381627190731, 1343.9008579599613, -384.3028457437431, -663.6809602218564, 250.57942938853193, 1501.2341912932952, 519.7629269254794, 1182.0872986379272, 2229.8175246266273, -751.0991420400387, 659.1589224760901, 286.1230801821839, 703.0102329599613, -1892.5914497323465, 10.658433717537264, 934.4829475122006, 791.1949756070208, -248.60638841685068, -69.35628489718147, 821.4924072557351, -228.5019198178161, -318.44160779346385, 535.0089660680696, 72.99419129329544, 766.9666474336464, -1043.449791390689, 541.0931656522698, 1335.4325035295824, 908.225857959962, 440.098388824159, -179.39182496686772, -738.4003468593164, 187.6270484361521, -1440.593259687097, -102.65728157492231, -982.0876477871643, 1230.6054034145072, -605.6272319276795, 264.4008579599613, -1527.9672739081707, 755.9225970903954, 260.0621482825427, 471.6668154067702, 810.5850684862762, -716.4533087067048, -183.23316265859467, 681.1049395926148, 88.32510038420332, -456.00914204003857, 1187.7820460787734, -1256.3442400792537, 1216.1824113580187, 208.6316271907308, 810.0151436742472, -465.0048024173975, -211.5383943764882, 535.2990061081091, -685.7780411226067, 10.809948869051368, -44.82887176976874, -536.1705706114681, 1406.6973181369522, -926.5903701102143, -1428.2556637791695, 153.28878899444317, -865.3299112708082, 1170.7906884684362, -1381.6453605274328, -815.4658087067055, 600.6529240756645, 303.27790714028924, 1247.209801049392, 319.8605353793155, -277.17914204003864, -247.54358648448397, -366.4062286542121, 101.86179545996129, 452.89310602197656, 934.0623964214992, 172.05352971568573, -199.09156628246274, -340.55778865658067, 164.16951467637955, -233.9658087067055, 601.371446195255, 1218.6380842373328, -1196.7223304458366, -1791.645904629966, 194.45085795996056, -272.80126969961384, 1398.6825481008073, -391.69354763444426, 1247.7341912932952, 142.54223727030694, 50.1337346722903, 455.19337496676417, 216.89410120320463, -548.5756521071526, -185.36580870670514, 395.6756923970479, 604.7627000652246, -905.3997956348103, 192.71903977814327, 46.25569666963929, 14.997011806115552, 957.2256987242927, 266.9957946688228, -507.24379612808843, 780.913357959962, 113.85737969909133, 745.2527098118135, 399.2137413955443, 448.5045164965468, -396.7355056764027, 55.81049651417743, 264.36792382822387, -391.5098563257525, 624.1079585516782, -4.563847922390778, -856.5786742037817, -1095.581700179573, 558.6523030466669, 66.67672002892687, -529.9677134686099, 771.8951761417793, -671.003096842298, 587.6311950386134, 577.4818635465526, 236.38974684885034, 193.13290215885718, -242.76947171036772, -309.0772841165417, 82.42259709039536, -562.2613042022003, -16.68516354541498, 860.1147617032766, 870.0710707259186, 259.6310166901203, 253.85348953890934, -1059.3609221447514, -697.7710170400387, -172.72090369806938, 761.9678682692393, -571.899142040038, 198.51310285791988, 759.1445127822972, -283.8870208279168, -688.8780365124003, 584.4358579599611, 801.4132957709062, 666.3810559797639, 322.29987273828556, 82.2390932540784, -610.9967030156477, 141.07076087258247, -51.93005991443533, -160.5558728092692, -109.56325687257413, -890.7372372781338, -268.36454488364143, 835.8489711675084, 107.61916781911532, -503.421571946581, 619.7799277274025, -711.8815494474457, 786.2971713240167, 517.0705827306028, -578.0215164692618, -123.80823294912989, -591.5018569721651, 878.2432003023041, 398.6317996639973, -17.94735632575248, -941.6458087067058, 241.3743092873956, 77.72905179256122, -565.4631771277582, -327.5838581972439, -17.05131595308194, 291.92250298160616, -107.78017652279777, -826.6270390357477, -451.65469759559346, 25.662560087621387, 353.2906884684362, 886.9810267363318, -19.199982376172557, 180.42805461268108, 135.19669129329486, 598.2701525657703, 778.5992050673995, -297.300788130573, -638.4925846629903, -643.911386937998, 569.6894758461403, -466.8683728092692, -966.3693033303607, -865.7216319998788, 196.14485795996188, 185.51838784043866, -767.0316817225776, -482.2177191151368, 1078.093771345788, -651.0873773341555, 259.5610142099613, -668.8929163591056, -363.3704598694967, -103.07983702073398, 109.85855026765421, 552.7629269254794, 479.19475108973165, -131.76073899821313, -314.61429355519067, -517.9142363796618, 304.07379029078766, 141.52632612475463, -878.6663062191437, -520.5638260549094, -600.1695124104099, 782.8196771481526, 243.30894619525498, 290.922835981939, -742.2779741568265, -829.8955056764025, -254.37088117047279, 564.1680059744012, -236.57755930622625, -654.1923320041969, 448.4651436742479, -459.7575050293617, 73.31220547769226, 265.342554073035, -659.2470293639817, 327.22015620557613, 251.96729152639455, -436.4684800191335, 476.34530240440654, -94.52474757637174, 312.05603037375477, -763.3018911809322, 630.8837346722903, 558.9930081306102, -797.4902985026238, 499.09746812945195, 582.3839660680696, -153.85335079424658, 318.50152910090037, -326.8115166219777, 608.0108579599619, 207.82776825896508, 18.02668577453005, 10.465214395604562, 483.49296322311966, -926.9417649908592, -35.29848844526714, -39.470477544924506, -422.4173238582207, 755.3604048855268, -196.399142040038, 729.4121119792544, -288.7626035784997, -633.4537746278984, 107.43270509371905, 556.6087944678984, 185.86604783337862, -295.43668147221615, -392.2217835494721, 852.9008579599613, -350.7303920400391, 327.4927582714881, -662.6798873816533, -42.27251665304175, 440.08295672539316, 231.40855026765348, -582.7249089112047, -353.53645090853934, 330.9679311306936, 551.7245661666475, -596.2294450703412, 215.12140176660796, -17.49070830509845, -294.9670099079067, 231.6852890976861, -449.82451517436675, -420.27176108765707, -635.5857889243125, -169.87428996903327, -643.1610889426938, 198.1567403129029, -152.31615083769248, -442.3915397008568, -658.708471486103, 260.44155563437926, 828.7849159309753, 335.221667208516, 595.8374573835918, 662.0560303737548, 8.445270567410262, 539.709429388533, 37.45071550981811, 1063.2786988690514, -192.41925535448718, -5.760158989191041, 600.70367486137, -433.5064454108251, -223.0711308355567, -225.98461690037402, 322.23790531372106, -267.2241420400387, 632.8260657161936, -79.01626911186213, -839.1514836378356, -670.3985925894885, 499.79126891886517, -958.7958633515136, -383.76671697191887, -167.8491420400387, -226.4704157527758, -267.23157447247104, -522.4145059214407, -949.4055936529421, 360.50139415299054, 431.30994886905137, -729.1711420400388, 274.7758579599613, -44.2901234723995, 698.8003288594318, -183.5899072115426, -48.372826250564685, -196.15950949410762, -380.03893261595476, 447.0470720591784, 239.46596212662735, 228.27488393398744, 114.07702376306952, 637.8620982700395, -493.114605957564, 1169.923994206747, -325.87862921952546, -304.4878888431085, -394.78281550942665, 170.2418248810809, 62.41354831529134, 246.70085795996056, 558.09277715188, -184.30569115842627, -420.28507168828037, -231.83598414530206, -170.9116420400387, 63.938264443751905, 399.9331962684191, 688.9604113098376, -46.118944020236086, -51.585561793124725, 623.7210550042964, -403.9369798778771, -215.20453419690057, -911.8619782258575, 53.61305308191186, -352.6709181957558, 96.17270262015518, 275.2011000907114, -714.7489004941453, -502.57625047377405, -466.4573151169625, 532.7833519647575, -195.09196500654616, 410.51899638478244, 333.93657224567505, 171.093257009843, -71.838478532929, -78.85091508968435, -564.6604627947563, 83.86085795996041, 792.447806316768, 211.0343474213205, -14.47998316153462, -577.9196548605523, 72.52643935530978, -413.8740840353985, -321.74266055855696, -331.8058394996224, 90.30408376641208, -173.38879721245212, 278.2013166755569, 172.75669320023553, -398.2612424966592, 38.07397868888984, 411.1894943235984, -140.26240734616113, 434.97778103688506, -555.1172007307832, -319.290583481481, 341.53906020715294, -308.36371603107, -559.2356073644241, 198.81603653139064, -214.22163647210982, -5.2346975955933885, 4.080458846879992, 87.40528273872224, 134.47480939484012, 34.22024121987306, 243.714044773149, 680.8153316441712, 191.7826960343591, 431.37029027437165, 5.547916783491019, -647.8121855182999, 243.42146533523191, 207.86622592532876, 324.6805555841511, 735.3017200289269, 167.1567719384566, -489.00042959368693, 170.479016418205, -51.52435571525166, -32.96481368183049, 104.8625600876203, 277.15775817227586, -186.67753187054768, 102.96851123691704, 200.2109845422401, 206.0734895389087, 145.79371510281817, 699.6849250459145, -1.6284307429668843, -431.4519604116467, -478.58039204003944, 83.17944423854715, -348.40412129315155, -351.5566989758572, 113.93391581120159, 5.7194146609926975, -628.8830926573228, -568.8855896786426, 131.3947104189774, -295.39566555742203, -505.91750938697805, -22.844559555313026, 778.1996384477661, -179.69549092441957, -513.8116926473267, 126.48267614177894, -374.0789807497167, -110.36875974627583, 271.20808687562385, 158.63632890184454, 98.38885795996066, -96.17299433544758, -59.04336514760871, -474.6597782229419, 242.65879446789768, -504.17834996083, -205.23550567640268, 420.11584809802844, 299.74534614893855, 192.60223320553996, -170.58737733415546, -243.94845710853224, -159.8706264150387, 22.553879402456005, -87.11859729295611, -241.83506437013602, -163.4751110322868, -175.16684029922544, 5.31205487115767, 213.16097356689716, -231.76837280926884, -77.32371017823425, 208.5119690710726, 389.08632641120494, 215.66421673858713, 232.9808579599612, 329.28869065958133, -209.30028055996263, 667.5201761417793, 573.7817653323618, -237.0331043041897, 29.364134796120197, -325.72320219041467, -249.75205010758145, -48.2021382947205, -20.994469142842718, 148.56876840772202, 264.90830674953213, -51.14932791364481, 176.08453142934923, -246.9732161141128, -443.6740034078757, 369.92484319981304, -151.94628752806784, -64.65980380474502, -107.55785763636959, 88.86056491966883, 471.9886093310761, -130.9622807261694, -122.33775770488319, 62.55722159632569, -59.95576635945872, -409.5158087067048, 151.00935705580196, 399.20230200328297, -149.9063492472451, 375.2659658736302, 117.09654916283398, -8.939643832152797, -151.59824758565628, 82.93478653139027, 196.38570644480933, -78.91586801868652, -3.9605985231646628, 28.673907605350905, 121.30262787146603, -253.0920749022298, -204.7340626749592, 815.4114213402427, -658.8812158537476, 56.94296322311857, -64.79791612059853, 236.9533055124084, -518.4150233663913, -121.28729535014281, -321.78435943134355, 212.48766351551603, -39.51162037626091, 682.7399583059814, -88.33402977751757, 440.666375201341, 94.51359462089022, 245.64656242731508, -32.11800996456623, -290.19845710853224, 157.02393488303824, -287.01211132331446, 176.8565649446282, 208.53010966064176, 314.7039139871267, 38.94831558708029, -289.4697004156733, 641.7150471491514, 88.03407887058529, -439.95941140030845, 228.5848915734059, -478.25182660379687, -766.3369979864365, -62.70950993301449, 32.854113385670644, -161.97580870670572, 313.296864615535, -110.04930815299485, 150.43319626841912, -69.23490362944358, -316.5338527838412, 104.06092396656277, -115.31989986540975, 48.98309480206626, 518.6857512276129, 447.2139727140602, 362.97287105325086, -71.04358648448397, 296.6316899338599, 349.6728449306447, -475.29751602377837, -107.18842775432495, 317.7209552046934, 103.87982236125572, 237.38066409889507, -337.54591623358647, -196.73843350541756, -19.95605522331789, 327.70182104182277, 285.1156015497054, -422.2063420400391, -484.70297590585324, -576.0305614977733, -234.49404649863754, 60.566994684921156, 262.0580008171037, -14.601519219118927, -265.6118002678868, 329.6307157798674, 307.61221442683745, 195.97644851114273, -479.65260115953606, -256.0394874089561, 20.016845420776008, -11.995855655062769, 174.89460795996092, 80.16294844357981, -126.59291151044454, -112.79898651904296, 284.19433622083125, 254.41248586693837, -347.9040956004101, 87.58246537881678, -37.36920376843409, -281.664627402135, 391.8008579599609, 28.367831846289846, -305.3782831443332, 431.625207117695, 488.9788396113381, -217.47166112400737, 367.5121384477661, 467.5233845961866, -14.305828970129369, -427.50733627372574, 58.125100384204416, -301.9357532351969, -552.7653051820325, 448.9958805843962, 53.673448321407704, 194.7038654787575, 541.1095666686706, -94.67635343434085, -373.33267497417, 24.809677092995116, 275.44712661667836, -71.59094531872688, 263.7207984361521, -196.13628914256515, 236.7732615207915, -237.06951241040952, -219.69233730631095, -406.50239167076325, 289.9805039776602, 152.79923793050693, -162.83884792239223, -236.03746803122885, -123.70031506056694, -276.5691273987504, -478.2394929172315, -216.72687926631625, -77.60643066977718, -78.13989895415762, 24.613067262287586, 4.703470441818354, -51.9658087067055, -130.97468473178924, 352.1060602721009, 89.4174524765549, 473.4498493144274, -173.5725233350022, -23.002877672222894, -139.4979942638547, -82.77106181081217, -40.46681013732086, -20.181999182896107, 533.0848807844977, -158.49372893462532, -172.25703677688034, 204.28722159632525, -239.1033973591875, 292.85128288913984, 72.32660053421932, -370.91976350896584, -201.65203343637222, 153.38536500221562, 106.45641351551603, 434.29552088130913, -261.6896048731378, 153.1235470355914, 179.0854733445758, -187.101935336128, 312.9691982667955, 675.9231420825236, 153.0037786831872, 150.38002462662735, -187.47084800397715, -62.02711987937437, 17.8690460650796, 440.98649331907654, 129.53809933927187, 217.76173950266093, 536.0879281112684, 237.4242096083126, 56.715672774776976, -95.996402314011, 555.5615966740515, -69.32865023675913, -116.19463999365325, 76.45944106622846, -291.422951563849, -96.31789204003871, -196.51569563569683, 344.8845977973597, -163.4144329737337, 3.741398500502328, 525.27872570625, -294.15170268693873, -43.55136276682242, -400.78328182498444, -23.645450764870475, 153.0335657347605, 391.11772542984, 124.90219485835769, -260.0217054579298, -397.4084753733714, -116.93003418384615, 10.930113279109719, 22.853049195020503, 287.99502241619484, -27.671327470501637, -405.308136749034, 111.75290551610306, 433.3071904137869, -195.17028828509865, 3.528489538908616, 22.250398038804633, 244.8916716082549, -121.64829013964481, -60.409351464122665, -211.10437079820804, 208.272920623147, 87.05340033284301, -96.07700662337265, 376.821534162822, -219.5848563257532, 13.834710100039956, -28.907432195479487, -121.55321707238, 455.4783773398067, -547.9597872013292, 323.9691569290335, 186.14410120320463, -44.55929628168451, -72.15048992193806, -24.213244604141437, 339.9059795988851, 78.93538481418182, 207.81656677222236, 313.4761130620027, 156.72506178161711, 327.09424218387903, 92.91864703238753, -291.15624863902303, 119.95408989912539, 234.20592125110124, 58.467229641377344, -27.880707696604077, -8.685522872321599, -318.23642163701516, 158.58010324298084, -82.50994606013955, -222.1756790538402, 250.79308853640214, -444.9789918523038, -232.73914204003813, 493.0244534655794, -482.45575051884225, 318.5982427669351, -308.71232611964115, 197.24619957486902, 49.16016317087997, 8.548937266034045, -198.57191431726642, 72.22718676095064, 105.28727771304693, -207.96967224965738, -63.834363714915526, -147.41771522577073, 240.14778670688975, 256.7450297391024, -73.15306360866634, -93.2668286985463, -421.3852056097203, 57.28547334457653, -179.14304447906397, -59.8470104931439, -157.76215907166807, 47.502316040156074, -158.17317116625236, -370.6773238582209, -312.35458998192735, 246.48731503372255, 18.03491593097533, 600.1674442084532, 128.83218326116548, 92.04285555322167, 86.1472521907308, 28.64395519885693, -123.24662405442723, -132.19255521369087, -404.4376587864499, 530.2676441009407, 136.95336392654826, -159.29580473372152, 325.60561986472385, -438.4059196856979, 121.01012161791914, -284.3387624433599, 304.0110475334204, -32.170147957198424, 393.859486801568, -386.31047616046453, -81.32673637966218, 1.1411406454735697, 385.2126226658438, 624.3814690057898, -200.7376396926211, 153.99581692830907, -161.97033641943017, 107.70436673189033, -175.27904858209513, -139.41652827107646, -108.48608842698559, -107.15967754644225, 249.2473695878689, 261.1064328728535, 186.3927373103088, 53.279768736323604, -479.0979846326318, -121.04480677992251, -245.00329908391905, 134.1396122852202, 97.53680266042284, -46.73090268445776, 154.37327175306564, 74.21773511265928, -69.95120626022253, -88.47371248677337, 53.779576495429865, -20.676284897181176, -453.4690050537374, 130.46072112985894, 20.780129030576063, -126.95693498656874, -315.90823294913025, 209.3333210700639, 281.3237604542919, -195.95644668329987, -150.25525063732312, -545.9059217010563, 358.0464561540921, -379.1600214086975, 156.17788498698792, 350.9526014920193, 35.728947847601376, -8.53236313992602, -80.15743800416385, -48.165211468929556, -26.92240825927729, -200.47344371601685, -377.66275811146807, -239.54172843914603, 94.63359738089639, -381.3839028854218, 199.36419129329443, -167.29670030862871, -280.4228670954708, 254.58635076173232, 161.67408804845763, 354.48649331907654, 5.286067672985155, 136.17759445389675, -288.0517852118446, -51.87581970780593, -81.17606511696249, -195.94656245716214, 77.48528778452237, -187.37077402251452, 96.82427152670061, -156.1330218214589, 414.7283688769912, 466.88886232201185, 196.95750284013593, -418.2384238681134, 61.07368404691806, -48.564940085641865, -205.31931557583084, -98.77411495444903, 254.53722159632525, 549.3668039059066, -40.445794307857796, 128.87496799232395, -352.7058230745206, -3.4662033963359136, -387.355056018534, -143.37089284562353, 511.50708113592736, -557.2309748374664, 134.8837273389763, -106.28737733415619, 181.42115710526014, 177.444081012256, 269.26439740559, 265.76667265644755, -122.6480782102517, -149.06407296458747, -9.353919110102652, 108.15006262592033, 16.253612197249822, 136.0045616636653, -3.056858741942051, -28.915403919658274, -258.81960617506047, 62.25280738040419, -13.34019467161852, -52.10755423772571, 171.22648821206167, 143.14744767664524, 42.86941141908028, 219.6139469651971, -181.6911922492436, -111.55786722290213, 21.998979045556553, 165.86853262106706, -21.479350373372654, 256.8124084282226, 59.82185588095854, 457.5685630482276, -60.55349888651108, 151.09049526566014, -108.33620208144748, 195.76642155872105, -60.83054699871718, -83.8246322361174, 179.72147651666273, -84.1805014633137, 42.573697466134035, -144.80931675740794, -249.8784028203263, 199.34701180611592, 216.3568005829129, -190.51060570431764, -319.6840091157028, 292.1837997372859, -158.64710122371253, 279.83561840848233, -193.2600381703851, 116.73198715629951, -237.43247537337265, -94.88086792836293, -105.07682966681386, -280.14676108765707, -298.7205995299173, 112.82199041698914, 268.3988377579408, -64.69349118231912, 210.0823095728647, 42.81022351887441, 224.23486198410683, 402.0887976584545, 271.99724350213, -176.12622328377074, 290.85476577559166, 177.9979550570588]\n"
     ]
    }
   ],
   "source": [
    "sample_sizes = list(range(1, 1000))\n",
    "means_diff = []\n",
    "for i in sample_sizes:\n",
    "    means_diff.append(difference(i,MERGEN2006_07_PP_NEW))\n",
    "print(means_diff)"
   ]
  },
  {
   "cell_type": "code",
   "execution_count": 114,
   "metadata": {},
   "outputs": [
    {
     "data": {
      "text/plain": [
       "<matplotlib.collections.PathCollection at 0x11c0cbe50>"
      ]
     },
     "execution_count": 114,
     "metadata": {},
     "output_type": "execute_result"
    },
    {
     "data": {
      "image/png": "[encoded data removed]",
      "text/plain": [
       "<Figure size 720x576 with 1 Axes>"
      ]
     },
     "metadata": {
      "needs_background": "light"
     },
     "output_type": "display_data"
    }
   ],
   "source": [
    "plt.figure(figsize=(10, 8))\n",
    "plt.scatter(x = sample_sizes, y = means_diff)"
   ]
  },
  {
   "cell_type": "code",
   "execution_count": null,
   "metadata": {
    "id": "MjqbewGC6oKZ"
   },
   "outputs": [],
   "source": [
    "# The end - Give yourself a pat on the back!"
   ]
  }
 ],
 "metadata": {
  "colab": {
   "name": "Assignment-07",
   "provenance": []
  },
  "kernelspec": {
   "display_name": "Python 3",
   "language": "python",
   "name": "python3"
  },
  "language_info": {
   "codemirror_mode": {
    "name": "ipython",
    "version": 3
   },
   "file_extension": ".py",
   "mimetype": "text/x-python",
   "name": "python",
   "nbconvert_exporter": "python",
   "pygments_lexer": "ipython3",
   "version": "3.7.4"
  }
 },
 "nbformat": 4,
 "nbformat_minor": 1
}
