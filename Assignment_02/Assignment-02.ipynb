{
 "cells": [
  {
   "cell_type": "markdown",
   "metadata": {},
   "source": [
    "# Assignment #02\n",
    "Create a program that does the following:\n",
    "\n",
    "* Prompts a user to enter 10 numbers.\n",
    "* If the user enters anything other than numbers, remind her that only numbers are allowed and let her retry.\n",
    "* Don't allow the user to enter more than 10 or less than 10 numbers.\n",
    "* Display the 10 numbers back to the user at the end.\n",
    "* Calculate the following statistics from the 10 numbers entered:\n",
    "\n",
    "    * Minimum\n",
    "    * Maximum\n",
    "    * Range \n",
    "    * Mean\n",
    "    * Median (optional)\n",
    "    * Mode (optional)\n",
    "    * Variance (optional)\n",
    "    * Standard Deviation (optional)\n",
    "\n",
    "Note:\n",
    "\n",
    "1. Use the Python concepts and methods covered so far. Try not to use uncovered methods.\n",
    "2. Use infinite loop: while True\n",
    "3. Use break/continue\n",
    "4. Use try/except\n",
    "5. Implement this in two ways and produce and submit two different files:\n",
    "    * Produce a Python script (.py). \n",
    "    * Produce a Jupyter Notebook (.ipynb). "
   ]
  },
  {
   "cell_type": "code",
   "execution_count": 38,
   "metadata": {},
   "outputs": [
    {
     "name": "stdout",
     "output_type": "stream",
     "text": [
      "Please enter an integer:5\n",
      "Please enter an integer:4\n",
      "Please enter an integer:2\n",
      "Please enter an integer:\n",
      "Only integer is allowed\n",
      "Please enter an integer:5\n",
      "Please enter an integer:6\n",
      "Please enter an integer:7\n",
      "Please enter an integer:7\n",
      "Please enter an integer:7\n",
      "Please enter an integer:8\n",
      "Please enter an integer:5\n",
      "Ten intergers are : [5, 4, 2, 5, 6, 7, 7, 7, 8, 5]\n"
     ]
    }
   ],
   "source": [
    "z = []\n",
    "i=0\n",
    "for i in range(10):\n",
    "    \n",
    "    while True: \n",
    "        try:\n",
    "            x = input(\"Please enter an integer:\")\n",
    "            y = int(x)\n",
    "            break\n",
    "        except:\n",
    "            print(\"Only integer is allowed\")\n",
    "        \n",
    "    z.append(y)\n",
    "    \n",
    "\n",
    "#print(\"You have entered a number:\", y)\n",
    "#z=append(y)\n",
    "print('Ten intergers are :',z[:])"
   ]
  },
  {
   "cell_type": "markdown",
   "metadata": {},
   "source": [
    "## Minimum "
   ]
  },
  {
   "cell_type": "code",
   "execution_count": 40,
   "metadata": {},
   "outputs": [],
   "source": [
    "def min(z):\n",
    "   # i=0\n",
    "    L = z[0]\n",
    "    for i in range(10):\n",
    "        if z[i] <= L:\n",
    "            L = z[i]\n",
    "        else:\n",
    "            L = L\n",
    "    return L"
   ]
  },
  {
   "cell_type": "code",
   "execution_count": 41,
   "metadata": {},
   "outputs": [
    {
     "name": "stdout",
     "output_type": "stream",
     "text": [
      "the min value is 2\n"
     ]
    }
   ],
   "source": [
    "print(\"the min value is\", min(z))"
   ]
  },
  {
   "cell_type": "markdown",
   "metadata": {},
   "source": [
    "## Maximum"
   ]
  },
  {
   "cell_type": "code",
   "execution_count": 7,
   "metadata": {},
   "outputs": [],
   "source": [
    "def max(z):\n",
    "   # i=0\n",
    "    L = z[0]\n",
    "    for i in range(len(z)):\n",
    "        if z[i] >= L:\n",
    "            L = z[i]\n",
    "        else:\n",
    "            L = L\n",
    "    return L"
   ]
  },
  {
   "cell_type": "code",
   "execution_count": 42,
   "metadata": {},
   "outputs": [
    {
     "name": "stdout",
     "output_type": "stream",
     "text": [
      "the max value is  8\n"
     ]
    }
   ],
   "source": [
    "print(\"the max value is \", max(z))"
   ]
  },
  {
   "cell_type": "markdown",
   "metadata": {},
   "source": [
    "## range"
   ]
  },
  {
   "cell_type": "code",
   "execution_count": 43,
   "metadata": {},
   "outputs": [
    {
     "name": "stdout",
     "output_type": "stream",
     "text": [
      "range is  6\n"
     ]
    }
   ],
   "source": [
    "z_range = (max(z)-min(z))\n",
    "print(\"range is \",z_range)"
   ]
  },
  {
   "cell_type": "markdown",
   "metadata": {},
   "source": [
    "## mean"
   ]
  },
  {
   "cell_type": "code",
   "execution_count": 10,
   "metadata": {},
   "outputs": [],
   "source": [
    "def mean(z):\n",
    "    #for i in range(10):\n",
    "    sum=0\n",
    "    for j in z:\n",
    "        sum = sum + j\n",
    "    mean = sum/len(z)\n",
    "    return mean"
   ]
  },
  {
   "cell_type": "code",
   "execution_count": 11,
   "metadata": {},
   "outputs": [
    {
     "data": {
      "text/plain": [
       "5.2"
      ]
     },
     "execution_count": 11,
     "metadata": {},
     "output_type": "execute_result"
    }
   ],
   "source": [
    "print(\"the mean is \", mean(z))"
   ]
  },
  {
   "cell_type": "markdown",
   "metadata": {},
   "source": [
    "## medium\n",
    "### First, I need  sort the list, here I used the quicksort. https://www.geeksforgeeks.org/quick-sort/"
   ]
  },
  {
   "cell_type": "markdown",
   "metadata": {},
   "source": []
  },
  {
   "cell_type": "code",
   "execution_count": 12,
   "metadata": {},
   "outputs": [],
   "source": [
    "def partition(arr,low,high): \n",
    "    i = ( low-1 )         # index of smaller element \n",
    "    pivot = arr[high]     # pivot \n",
    "  \n",
    "    for j in range(low , high): \n",
    "  \n",
    "        # If current element is smaller than the pivot \n",
    "        if   arr[j] < pivot: \n",
    "          \n",
    "            # increment index of smaller element \n",
    "            i = i+1 \n",
    "            arr[i],arr[j] = arr[j],arr[i] \n",
    "  \n",
    "    arr[i+1],arr[high] = arr[high],arr[i+1] \n",
    "    return ( i+1 ) \n",
    "  \n",
    "# The main function that implements QuickSort \n",
    "# arr[] --> Array to be sorted, \n",
    "# low  --> Starting index, \n",
    "# high  --> Ending index \n",
    "  \n",
    "# Function to do Quick sort \n",
    "def quickSort(arr,low,high): \n",
    "    if low < high: \n",
    "  \n",
    "        # pi is partitioning index, arr[p] is now \n",
    "        # at right place \n",
    "        pi = partition(arr,low,high) \n",
    "  \n",
    "        # Separately sort elements before \n",
    "        # partition and after partition \n",
    "        quickSort(arr, low, pi-1) \n",
    "        quickSort(arr, pi+1, high)\n",
    "        "
   ]
  },
  {
   "cell_type": "code",
   "execution_count": 13,
   "metadata": {},
   "outputs": [
    {
     "name": "stdout",
     "output_type": "stream",
     "text": [
      "Sorted array is:\n",
      "1\n",
      "5\n",
      "7\n",
      "8\n",
      "9\n",
      "10\n"
     ]
    }
   ],
   "source": [
    "# Driver code to test above \n",
    "arr = [10, 7, 8, 9, 1, 5] \n",
    "n = len(arr) \n",
    "quickSort(arr,0,n-1) \n",
    "print (\"Sorted array is:\") \n",
    "for i in range(n): \n",
    "    print (\"%d\" %arr[i]), \n",
    "  "
   ]
  },
  {
   "cell_type": "code",
   "execution_count": 14,
   "metadata": {},
   "outputs": [
    {
     "data": {
      "text/plain": [
       "[9, 6, 5, 4, 8, 7, 3, 2, 1, 7]"
      ]
     },
     "execution_count": 14,
     "metadata": {},
     "output_type": "execute_result"
    }
   ],
   "source": [
    "z"
   ]
  },
  {
   "cell_type": "code",
   "execution_count": 15,
   "metadata": {},
   "outputs": [
    {
     "name": "stdout",
     "output_type": "stream",
     "text": [
      "Sorted z is:\n",
      "1\n",
      "2\n",
      "3\n",
      "4\n",
      "5\n",
      "6\n",
      "7\n",
      "7\n",
      "8\n",
      "9\n"
     ]
    }
   ],
   "source": [
    "n = len(z)\n",
    "quickSort(z,0,n-1)\n",
    "print (\"Sorted z is:\")\n",
    "for i in range(n):\n",
    "    print ('%d' %z[i])\n"
   ]
  },
  {
   "cell_type": "code",
   "execution_count": 16,
   "metadata": {},
   "outputs": [
    {
     "data": {
      "text/plain": [
       "[1, 2, 3, 4, 5, 6, 7, 7, 8, 9]"
      ]
     },
     "execution_count": 16,
     "metadata": {},
     "output_type": "execute_result"
    }
   ],
   "source": [
    "z"
   ]
  },
  {
   "cell_type": "code",
   "execution_count": 17,
   "metadata": {},
   "outputs": [],
   "source": [
    "def medium(z):\n",
    "    i= len(z)\n",
    "    if i%2 ==0:\n",
    "        medium = (z[i//2-1]+z[i//2])/2\n",
    "    else:\n",
    "        medium = z[i//2]\n",
    "    return medium   "
   ]
  },
  {
   "cell_type": "code",
   "execution_count": 18,
   "metadata": {},
   "outputs": [
    {
     "data": {
      "text/plain": [
       "5.5"
      ]
     },
     "execution_count": 18,
     "metadata": {},
     "output_type": "execute_result"
    }
   ],
   "source": [
    "print(\"the medium is \",medium(z))"
   ]
  },
  {
   "cell_type": "markdown",
   "metadata": {},
   "source": [
    "### mode"
   ]
  },
  {
   "cell_type": "code",
   "execution_count": 21,
   "metadata": {},
   "outputs": [],
   "source": [
    "H={}\n",
    "H[2] = 1"
   ]
  },
  {
   "cell_type": "code",
   "execution_count": 22,
   "metadata": {},
   "outputs": [
    {
     "data": {
      "text/plain": [
       "{2: 1}"
      ]
     },
     "execution_count": 22,
     "metadata": {},
     "output_type": "execute_result"
    }
   ],
   "source": [
    "H"
   ]
  },
  {
   "cell_type": "code",
   "execution_count": 23,
   "metadata": {},
   "outputs": [],
   "source": [
    "# I use the reference link. https://www.quora.com/What-is-the-most-efficient-algorithm-for-calculating-the-mode-of-an-array-of-integers\n",
    "def mode(z):\n",
    "    H = {}\n",
    "    maxH = 0\n",
    "    mode = None\n",
    "    for x in z:\n",
    "        if x in H:\n",
    "            H[x] =H[x] +1 \n",
    "        else:\n",
    "            H[x] =1\n",
    "    \n",
    "    value_list = list(H.values())\n",
    "    maxH = max(value_list)\n",
    "    mode = [k for k,v in H.items() if v == maxH]\n",
    "    return mode"
   ]
  },
  {
   "cell_type": "code",
   "execution_count": 24,
   "metadata": {},
   "outputs": [
    {
     "data": {
      "text/plain": [
       "[7]"
      ]
     },
     "execution_count": 24,
     "metadata": {},
     "output_type": "execute_result"
    }
   ],
   "source": [
    "print(\"the mode is \",mode(z))"
   ]
  },
  {
   "cell_type": "markdown",
   "metadata": {},
   "source": [
    "### Variance "
   ]
  },
  {
   "cell_type": "code",
   "execution_count": 25,
   "metadata": {},
   "outputs": [],
   "source": [
    "def variance(z):\n",
    "    var = 0\n",
    "    for i in range(len(z)):\n",
    "        var += (z[i]-mean(z))**2\n",
    "    return var/(len(z)-1)"
   ]
  },
  {
   "cell_type": "code",
   "execution_count": 26,
   "metadata": {},
   "outputs": [
    {
     "data": {
      "text/plain": [
       "7.066666666666666"
      ]
     },
     "execution_count": 26,
     "metadata": {},
     "output_type": "execute_result"
    }
   ],
   "source": [
    "print(\"the varience is \",variance(z))"
   ]
  },
  {
   "cell_type": "code",
   "execution_count": null,
   "metadata": {},
   "outputs": [],
   "source": [
    "print(\"the length of z is \",len(z))"
   ]
  },
  {
   "cell_type": "markdown",
   "metadata": {},
   "source": [
    "### Standard Deviation\n",
    "#### I need get the square root function, here I am using the reference from the algorithum. "
   ]
  },
  {
   "cell_type": "code",
   "execution_count": 28,
   "metadata": {},
   "outputs": [],
   "source": [
    "def squareRootExhaustive(x, epsilon):\n",
    "  \"\"\"Assumes x and epsilon are positive floats & epsilon < 1\n",
    "    Returns a y such  that y*y is within epsilon of x\"\"\"\n",
    "  step = epsilon ** 2\n",
    "  ans = 0.0\n",
    "  while abs(ans**2 - x) >= epsilon and ans*ans <= x:\n",
    "    ans += step\n",
    "  if ans*ans > x:\n",
    "    raise ValueError\n",
    "  return ans"
   ]
  },
  {
   "cell_type": "markdown",
   "metadata": {},
   "source": [
    "#### Here is the second step for standard deviation."
   ]
  },
  {
   "cell_type": "code",
   "execution_count": 29,
   "metadata": {},
   "outputs": [],
   "source": [
    "def Standard_deviation(z):\n",
    "    return squareRootExhaustive(variance(z),0.001)"
   ]
  },
  {
   "cell_type": "code",
   "execution_count": 30,
   "metadata": {},
   "outputs": [
    {
     "data": {
      "text/plain": [
       "2.658133000017644"
      ]
     },
     "execution_count": 30,
     "metadata": {},
     "output_type": "execute_result"
    }
   ],
   "source": [
    "print(\"The standard deviation is \",Standard_deviation(z))"
   ]
  },
  {
   "cell_type": "code",
   "execution_count": null,
   "metadata": {},
   "outputs": [],
   "source": []
  }
 ],
 "metadata": {
  "kernelspec": {
   "display_name": "Python 3",
   "language": "python",
   "name": "python3"
  },
  "language_info": {
   "codemirror_mode": {
    "name": "ipython",
    "version": 3
   },
   "file_extension": ".py",
   "mimetype": "text/x-python",
   "name": "python",
   "nbconvert_exporter": "python",
   "pygments_lexer": "ipython3",
   "version": "3.7.4"
  }
 },
 "nbformat": 4,
 "nbformat_minor": 2
}
