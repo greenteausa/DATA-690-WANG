{
  "nbformat": 4,
  "nbformat_minor": 0,
  "metadata": {
    "colab": {
      "name": "session03_ practice.ipynb",
      "provenance": [],
      "private_outputs": true,
      "authorship_tag": "ABX9TyPth1TC8ntAxNRatohGDEYT",
      "include_colab_link": true
    },
    "kernelspec": {
      "name": "python3",
      "display_name": "Python 3"
    }
  },
  "cells": [
    {
      "cell_type": "markdown",
      "metadata": {
        "id": "view-in-github",
        "colab_type": "text"
      },
      "source": [
        "<a href=\"https://colab.research.google.com/github/greenteausa/DATA-690-WANG/blob/master/Assignment_03/session03__practice1.ipynb\" target=\"_parent\"><img src=\"https://colab.research.google.com/assets/colab-badge.svg\" alt=\"Open In Colab\"/></a>"
      ]
    },
    {
      "cell_type": "markdown",
      "metadata": {
        "id": "PKxVTO15bMR8",
        "colab_type": "text"
      },
      "source": [
        " **Requirment:**\n",
        "\n",
        "  1.To come up with a list of people's first name.\n",
        "  2. and find out how many people are in the class. \n",
        "\n",
        "**Hint**: \n",
        "-use split(), specify delimeter to eperate people.\n",
        "-Use split\n",
        "\n"
      ]
    },
    {
      "cell_type": "code",
      "metadata": {
        "id": "QHvT4KRpaqm9",
        "colab_type": "code",
        "colab": {}
      },
      "source": [
        "people_list = 'Wang, Chaojie; Seelam, Arjun Reddy; Rius, Jonathan; Liang, Jinqing; Chowdhury, Debanjan; Maszkiewicz, Lori; Negussie, Neftalem; Steinruck, Michaella; Phogat, Shreshta; Fatima, Misha; Hirabayashi, Scott; Soroush, Masoud; Bolz, Jessica; Mbu Nyamsi, Tchuissi; Dokuzoglu, Yuksel; Gogineni, Shailesh; Pabbisetty, Sai Vinay; Preis, Liam; Jyesta, Vishnu Priya; Narne, Yoshita; Boban, Shruthi; Oberoi, Ashreen Kaur; Cohens, Nashika; Noppinger, Ken; Kakani, Goutham; Hayo, Alyssa'\n",
        "print(people_list)"
      ],
      "execution_count": null,
      "outputs": []
    },
    {
      "cell_type": "code",
      "metadata": {
        "id": "HdkvNTzLa6Zh",
        "colab_type": "code",
        "colab": {}
      },
      "source": [
        "people_list.split(';')\n"
      ],
      "execution_count": null,
      "outputs": []
    },
    {
      "cell_type": "code",
      "metadata": {
        "id": "QmbOIx8GctjV",
        "colab_type": "code",
        "colab": {}
      },
      "source": [
        "people_list.count(',')"
      ],
      "execution_count": null,
      "outputs": []
    },
    {
      "cell_type": "code",
      "metadata": {
        "id": "yBRWoDWBc9dJ",
        "colab_type": "code",
        "colab": {}
      },
      "source": [
        "newer_list_first_name = []\n",
        "newer_list_last_name =[]\n",
        "new_list = people_list.split(';')\n",
        "for i in new_list:\n",
        "  newer_list_first_name.append(i.split(',')[-1])\n",
        "  newer_list_last_name.append(i.split(',')[0])\n",
        "print(newer_list_first_name)\n",
        "print(newer_list_last_name)"
      ],
      "execution_count": null,
      "outputs": []
    },
    {
      "cell_type": "code",
      "metadata": {
        "id": "MRruZ0E-e3uM",
        "colab_type": "code",
        "colab": {}
      },
      "source": [
        "len(newer_list_first_name)"
      ],
      "execution_count": null,
      "outputs": []
    },
    {
      "cell_type": "code",
      "metadata": {
        "id": "9wZn2jdhgOdW",
        "colab_type": "code",
        "colab": {}
      },
      "source": [
        "len(new_list)"
      ],
      "execution_count": null,
      "outputs": []
    },
    {
      "cell_type": "code",
      "metadata": {
        "id": "gEVmn3zNgWMR",
        "colab_type": "code",
        "colab": {}
      },
      "source": [
        ""
      ],
      "execution_count": null,
      "outputs": []
    }
  ]
}