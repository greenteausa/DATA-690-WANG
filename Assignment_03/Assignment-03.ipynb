{
 "cells": [
  {
   "cell_type": "markdown",
   "metadata": {},
   "source": [
    "# Assignment 03"
   ]
  },
  {
   "cell_type": "markdown",
   "metadata": {},
   "source": [
    "## The Problem:"
   ]
  },
  {
   "cell_type": "markdown",
   "metadata": {},
   "source": [
    "###  Write a program that generates 100 random integers between 0 and 9.\n",
    "\n",
    "Print them in a 10 by 10 matrix neatly arranged like the following (one space between each number):\n",
    "<pre>\n",
    "5 1 5 6 2 7 8 6 4 2 \n",
    "2 3 7 0 6 9 2 4 2 8 \n",
    "0 0 8 6 4 1 7 2 7 6 \n",
    "0 1 9 0 0 8 5 8 6 8 \n",
    "4 1 0 5 5 7 4 6 4 4 \n",
    "6 0 2 0 1 9 8 2 3 9 \n",
    "4 0 4 8 1 7 6 6 2 1 \n",
    "1 7 6 8 5 4 1 9 6 7 \n",
    "6 4 7 9 9 3 8 2 6 1 \n",
    "9 0 6 4 0 1 0 6 9 9 \n",
    "</pre>"
   ]
  },
  {
   "cell_type": "code",
   "execution_count": 1,
   "metadata": {},
   "outputs": [
    {
     "data": {
      "text/plain": [
       "0"
      ]
     },
     "execution_count": 1,
     "metadata": {},
     "output_type": "execute_result"
    }
   ],
   "source": [
    "import random# import the module.\n",
    "a = random.randrange(10) # try to create a element.\n",
    "a # try to print the element."
   ]
  },
  {
   "cell_type": "code",
   "execution_count": 2,
   "metadata": {},
   "outputs": [
    {
     "name": "stdout",
     "output_type": "stream",
     "text": [
      "8 1 9 7 8 1 7 2 8 5\n",
      "1 7 3 8 7 0 9 3 9 0\n",
      "1 6 9 3 1 5 2 9 7 1\n",
      "9 3 0 2 4 2 9 3 0 3\n",
      "1 8 4 8 5 6 8 2 5 4\n",
      "5 8 8 8 7 7 6 2 2 5\n",
      "3 1 7 6 9 7 8 8 4 5\n",
      "6 9 4 9 3 1 7 6 9 7\n",
      "7 8 0 9 6 9 5 9 0 1\n",
      "9 7 7 7 6 9 5 8 6 6\n"
     ]
    }
   ],
   "source": [
    "m = []  # create an empty list for 10 lines.\n",
    "for k in range(10): # 10 lines.\n",
    "        #m.append(a) # move to the final line.\n",
    "    a = [] # creat an empty list for 1 line. \n",
    "    for i in range(10): # 10 elements in onw line.\n",
    "        j = random.randrange(10) \n",
    "        a.append(j) \n",
    "    print(*a)\n",
    "    m.append(a) #form final 10*10 matrix."
   ]
  },
  {
   "cell_type": "code",
   "execution_count": 3,
   "metadata": {},
   "outputs": [
    {
     "data": {
      "text/plain": [
       "[[8, 1, 9, 7, 8, 1, 7, 2, 8, 5],\n",
       " [1, 7, 3, 8, 7, 0, 9, 3, 9, 0],\n",
       " [1, 6, 9, 3, 1, 5, 2, 9, 7, 1],\n",
       " [9, 3, 0, 2, 4, 2, 9, 3, 0, 3],\n",
       " [1, 8, 4, 8, 5, 6, 8, 2, 5, 4],\n",
       " [5, 8, 8, 8, 7, 7, 6, 2, 2, 5],\n",
       " [3, 1, 7, 6, 9, 7, 8, 8, 4, 5],\n",
       " [6, 9, 4, 9, 3, 1, 7, 6, 9, 7],\n",
       " [7, 8, 0, 9, 6, 9, 5, 9, 0, 1],\n",
       " [9, 7, 7, 7, 6, 9, 5, 8, 6, 6]]"
      ]
     },
     "execution_count": 3,
     "metadata": {},
     "output_type": "execute_result"
    }
   ],
   "source": [
    "m # print out the final m."
   ]
  },
  {
   "cell_type": "code",
   "execution_count": 4,
   "metadata": {},
   "outputs": [
    {
     "name": "stdout",
     "output_type": "stream",
     "text": [
      "8 1 9 7 8 1 7 2 8 5\n",
      "1 7 3 8 7 0 9 3 9 0\n",
      "1 6 9 3 1 5 2 9 7 1\n",
      "9 3 0 2 4 2 9 3 0 3\n",
      "1 8 4 8 5 6 8 2 5 4\n",
      "5 8 8 8 7 7 6 2 2 5\n",
      "3 1 7 6 9 7 8 8 4 5\n",
      "6 9 4 9 3 1 7 6 9 7\n",
      "7 8 0 9 6 9 5 9 0 1\n",
      "9 7 7 7 6 9 5 8 6 6\n"
     ]
    }
   ],
   "source": [
    "for i in m:\n",
    "    print(*i)"
   ]
  },
  {
   "cell_type": "code",
   "execution_count": 5,
   "metadata": {},
   "outputs": [
    {
     "name": "stdout",
     "output_type": "stream",
     "text": [
      "8  1  9  7  8  1  7  2  8  5\n",
      "1  7  3  8  7  0  9  3  9  0\n",
      "1  6  9  3  1  5  2  9  7  1\n",
      "9  3  0  2  4  2  9  3  0  3\n",
      "1  8  4  8  5  6  8  2  5  4\n",
      "5  8  8  8  7  7  6  2  2  5\n",
      "3  1  7  6  9  7  8  8  4  5\n",
      "6  9  4  9  3  1  7  6  9  7\n",
      "7  8  0  9  6  9  5  9  0  1\n",
      "9  7  7  7  6  9  5  8  6  6\n"
     ]
    }
   ],
   "source": [
    "for n in range(10):\n",
    "    m_ = m[n]\n",
    "    print(*m_, sep = '  ') # print the item with one space separation."
   ]
  },
  {
   "cell_type": "markdown",
   "metadata": {},
   "source": [
    "## 2. If the random number is an odd number, print \"@\" instead. like the following:\n",
    "<pre>\n",
    "@ @ 0 2 6 @ 8 8 0 0 \n",
    "@ 4 @ 4 4 @ 2 @ 2 2 \n",
    "@ 6 8 @ @ @ 0 @ 0 @ \n",
    "2 6 @ 0 @ 2 @ @ 0 @ \n",
    "8 4 @ @ @ 0 @ @ 6 @ \n",
    "@ @ 4 6 @ @ @ 2 @ 2 \n",
    "@ @ @ @ 4 @ @ 2 2 0 \n",
    "@ 6 @ 0 0 8 @ 2 0 @ \n",
    "8 8 @ @ @ 0 0 @ 4 6 \n",
    "@ 2 2 6 8 2 @ @ @ 6\n",
    "</pre>"
   ]
  },
  {
   "cell_type": "code",
   "execution_count": 6,
   "metadata": {},
   "outputs": [
    {
     "data": {
      "text/plain": [
       "[[8, 1, 9, 7, 8, 1, 7, 2, 8, 5],\n",
       " [1, 7, 3, 8, 7, 0, 9, 3, 9, 0],\n",
       " [1, 6, 9, 3, 1, 5, 2, 9, 7, 1],\n",
       " [9, 3, 0, 2, 4, 2, 9, 3, 0, 3],\n",
       " [1, 8, 4, 8, 5, 6, 8, 2, 5, 4],\n",
       " [5, 8, 8, 8, 7, 7, 6, 2, 2, 5],\n",
       " [3, 1, 7, 6, 9, 7, 8, 8, 4, 5],\n",
       " [6, 9, 4, 9, 3, 1, 7, 6, 9, 7],\n",
       " [7, 8, 0, 9, 6, 9, 5, 9, 0, 1],\n",
       " [9, 7, 7, 7, 6, 9, 5, 8, 6, 6]]"
      ]
     },
     "execution_count": 6,
     "metadata": {},
     "output_type": "execute_result"
    }
   ],
   "source": [
    "m"
   ]
  },
  {
   "cell_type": "code",
   "execution_count": 7,
   "metadata": {},
   "outputs": [
    {
     "name": "stdout",
     "output_type": "stream",
     "text": [
      "8 @ @ @ 8 @ @ 2 8 @\n",
      "@ @ @ 8 @ 0 @ @ @ 0\n",
      "@ 6 @ @ @ @ 2 @ @ @\n",
      "@ @ 0 2 4 2 @ @ 0 @\n",
      "@ 8 4 8 @ 6 8 2 @ 4\n",
      "@ 8 8 8 @ @ 6 2 2 @\n",
      "@ @ @ 6 @ @ 8 8 4 @\n",
      "6 @ 4 @ @ @ @ 6 @ @\n",
      "@ 8 0 @ 6 @ @ @ 0 @\n",
      "@ @ @ @ 6 @ @ 8 6 6\n"
     ]
    }
   ],
   "source": [
    "for i in m: # the indelted for loop inside the description of element. \n",
    "    n = [\"@\" if x%2 else x for x in i]\n",
    "    print(*n, sep = ' ')    "
   ]
  },
  {
   "cell_type": "code",
   "execution_count": 20,
   "metadata": {},
   "outputs": [
    {
     "name": "stdout",
     "output_type": "stream",
     "text": [
      "8 @ @ @ 8 @ @ 2 8 @   \n",
      "@ @ @ 8 @ 0 @ @ @ 0   \n",
      "@ 6 @ @ @ @ 2 @ @ @   \n",
      "@ @ 0 2 4 2 @ @ 0 @   \n",
      "@ 8 4 8 @ 6 8 2 @ 4   \n",
      "@ 8 8 8 @ @ 6 2 2 @   \n",
      "@ @ @ 6 @ @ 8 8 4 @   \n",
      "6 @ 4 @ @ @ @ 6 @ @   \n",
      "@ 8 0 @ 6 @ @ @ 0 @   \n",
      "@ @ @ @ 6 @ @ 8 6 6   \n"
     ]
    }
   ],
   "source": [
    "i=0  # set this for wo lines.\n",
    "while i < 10: # want to stop the line with every 10 elments when print the output.\n",
    "    for index, x in enumerate(m[i]): \n",
    "        if x%2:\n",
    "            print('@', end=' ') # for a new line after the odd element will not be showed out.\n",
    "        else:\n",
    "            print(x, end=' ') # for a new line with the even element will not be showed out as well.\n",
    "    \n",
    "    print('') # for seperate 10 lines. \n",
    "    i += 1"
   ]
  },
  {
   "cell_type": "markdown",
   "metadata": {},
   "source": [
    "## 3. Calculate and Print the total of each row like the following (use \"*\" to separate the total from the numbers):\n",
    "<pre>\n",
    "7 6 5 8 8 0 7 6 0 1 * 48 \n",
    "8 5 7 9 8 0 9 3 0 1 * 50 \n",
    "4 0 3 5 3 9 0 8 3 9 * 44 \n",
    "3 5 5 3 8 3 4 3 2 2 * 38 \n",
    "7 7 4 1 2 7 2 3 0 8 * 41 \n",
    "3 9 7 7 0 9 4 0 6 5 * 50 \n",
    "1 9 7 1 3 0 0 1 4 5 * 31 \n",
    "4 4 0 6 7 4 5 6 9 3 * 48 \n",
    "2 1 1 4 2 0 1 2 9 2 * 24\n",
    "2 1 6 7 7 8 1 0 0 4 * 36\n",
    "</pre>"
   ]
  },
  {
   "cell_type": "code",
   "execution_count": 11,
   "metadata": {},
   "outputs": [
    {
     "name": "stdout",
     "output_type": "stream",
     "text": [
      "8  1  9  7  8  1  7  2  8  5  *  56\n",
      "1  7  3  8  7  0  9  3  9  0  *  47\n",
      "1  6  9  3  1  5  2  9  7  1  *  44\n",
      "9  3  0  2  4  2  9  3  0  3  *  35\n",
      "1  8  4  8  5  6  8  2  5  4  *  51\n",
      "5  8  8  8  7  7  6  2  2  5  *  58\n",
      "3  1  7  6  9  7  8  8  4  5  *  58\n",
      "6  9  4  9  3  1  7  6  9  7  *  61\n",
      "7  8  0  9  6  9  5  9  0  1  *  54\n",
      "9  7  7  7  6  9  5  8  6  6  *  70\n"
     ]
    }
   ],
   "source": [
    "for n in range(10): \n",
    "    m_ = m[n]  # seperate the list m to 10 lines, every line is a small list'm_'.\n",
    "    print(*m_, '*', sum(m_),  sep = '  ')\n"
   ]
  },
  {
   "cell_type": "markdown",
   "metadata": {},
   "source": [
    "##  4. Optional: Surround the matrix with asterisks (*) like the following:\n",
    "Write a program that generates 100 random integers between 0 and 9.\n",
    "\n",
    "Print them in a 10 by 10 matrix neatly arranged following the format below (numbers can be different but the asterisks * must be included):\n",
    "<pre>\n",
    "**********************************\n",
    "*  5  1  5  6  2  7  8  6  4  2  *\n",
    "*  2  3  7  0  6  9  2  4  2  8  *\n",
    "*  0  0  8  6  4  1  7  2  7  6  *\n",
    "*  0  1  9  0  0  8  5  8  6  8  *\n",
    "*  4  1  0  5  5  7  4  6  4  4  *\n",
    "*  6  0  2  0  1  9  8  2  3  9  *\n",
    "*  4  0  4  8  1  7  6  6  2  1  *\n",
    "*  1  7  6  8  5  4  1  9  6  7  *\n",
    "*  6  4  7  9  9  3  8  2  6  1  *\n",
    "*  9  0  6  4  0  1  0  6  9  9  *\n",
    "**********************************\n",
    "</pre>"
   ]
  },
  {
   "cell_type": "code",
   "execution_count": 12,
   "metadata": {},
   "outputs": [
    {
     "name": "stdout",
     "output_type": "stream",
     "text": [
      "**********************************\n"
     ]
    }
   ],
   "source": [
    " print('*'*34)   # print the first line follow the requrement."
   ]
  },
  {
   "cell_type": "code",
   "execution_count": 13,
   "metadata": {},
   "outputs": [
    {
     "name": "stdout",
     "output_type": "stream",
     "text": [
      "[8, 1, 9, 7, 8, 1, 7, 2, 8, 5] [1, 7, 3, 8, 7, 0, 9, 3, 9, 0] [1, 6, 9, 3, 1, 5, 2, 9, 7, 1] [9, 3, 0, 2, 4, 2, 9, 3, 0, 3] [1, 8, 4, 8, 5, 6, 8, 2, 5, 4] [5, 8, 8, 8, 7, 7, 6, 2, 2, 5] [3, 1, 7, 6, 9, 7, 8, 8, 4, 5] [6, 9, 4, 9, 3, 1, 7, 6, 9, 7] [7, 8, 0, 9, 6, 9, 5, 9, 0, 1] [9, 7, 7, 7, 6, 9, 5, 8, 6, 6]\n"
     ]
    }
   ],
   "source": [
    "print(*m, sep = ' ')  # try to see  what the sep =''  function  will look like. "
   ]
  },
  {
   "cell_type": "code",
   "execution_count": 14,
   "metadata": {},
   "outputs": [
    {
     "name": "stdout",
     "output_type": "stream",
     "text": [
      "**********************************\n",
      "*  8  1  9  7  8  1  7  2  8  5  *\n",
      "*  1  7  3  8  7  0  9  3  9  0  *\n",
      "*  1  6  9  3  1  5  2  9  7  1  *\n",
      "*  9  3  0  2  4  2  9  3  0  3  *\n",
      "*  1  8  4  8  5  6  8  2  5  4  *\n",
      "*  5  8  8  8  7  7  6  2  2  5  *\n",
      "*  3  1  7  6  9  7  8  8  4  5  *\n",
      "*  6  9  4  9  3  1  7  6  9  7  *\n",
      "*  7  8  0  9  6  9  5  9  0  1  *\n",
      "*  9  7  7  7  6  9  5  8  6  6  *\n",
      "**********************************\n"
     ]
    }
   ],
   "source": [
    "print('*'*34) \n",
    "for n in range(10):\n",
    "    m_ = m[n]\n",
    "    print('*', *m_, '*',  sep = '  ')\n",
    "print('*'*34)  "
   ]
  },
  {
   "cell_type": "markdown",
   "metadata": {},
   "source": [
    "## 5. Optional (challenging): Calculate and Print the total of each row and column like the following:\n",
    " <pre>\n",
    "6  8  0  2  3  4  2  2  4  4  * 35 \n",
    "3  7  5  8  9  7  4  8  6  0  * 57 \n",
    "4  7  7  4  3  8  2  1  7  0  * 43 \n",
    "7  8  1  3  0  8  4  7  9  2  * 49 \n",
    "0  0  2  4  5  6  6  7  1  4  * 35 \n",
    "3  7  0  0  7  3  3  2  1  6  * 32 \n",
    "2  5  6  6  5  6  5  5  4  7  * 51 \n",
    "9  2  7  5  5  9  2  4  7  9  * 59 \n",
    "0  0  4  7  6  3  9  6  6  7  * 48 \n",
    "0  1  6  5  2  7  4  1  6  4  * 36 \n",
    "*  *  *  *  *  *  *  *  *  *  \n",
    "34 45 38 44 45 61 41 43 51 43 \n",
    " <\\pre>\n",
    " \n",
    " The Requirements:\n",
    "-You should program and test the solution in Jupyter notebook:\n",
    "-Save/upload the notebook file to your GitHub repository\n",
    "-Submit the link of your GitHub repo to BB.\n",
    "Hints:\n",
    "-You can use Python standard library random to generate one random number at a time\n",
    "-Alternatively you can use NumPy random library to generate 10 numbers at a time or 100 random number altogether in one shot.\n",
    "-You are likely to use nested loop - a loop within in another loop since you are dealing with a 10 x 10 matrix.\n",
    "-You will use modular operator (%) to determine if an integer is an odd number or an even number.\n",
    "-Use the \"end=\" option of the print() function to avoid a new line after the print and also to add additional spaces.\n",
    "  for example, print(9, end=\" \") will print 9 followed by three spaces and not starting a new line.\n",
    "-Think through the logic. Try simple things first. Don't make it too complicated. You only need a few lines of code."
   ]
  },
  {
   "cell_type": "code",
   "execution_count": 15,
   "metadata": {},
   "outputs": [
    {
     "name": "stdout",
     "output_type": "stream",
     "text": [
      "8  1  9  7  8  1  7  2  8  5  *  56\n",
      "1  7  3  8  7  0  9  3  9  0  *  47\n",
      "1  6  9  3  1  5  2  9  7  1  *  44\n",
      "9  3  0  2  4  2  9  3  0  3  *  35\n",
      "1  8  4  8  5  6  8  2  5  4  *  51\n",
      "5  8  8  8  7  7  6  2  2  5  *  58\n",
      "3  1  7  6  9  7  8  8  4  5  *  58\n",
      "6  9  4  9  3  1  7  6  9  7  *  61\n",
      "7  8  0  9  6  9  5  9  0  1  *  54\n",
      "9  7  7  7  6  9  5  8  6  6  *  70\n",
      "*  *  *  *  *  *  *  *  *  *  \n",
      "56 47 44 35 51 58 58 61 54 70\n"
     ]
    }
   ],
   "source": [
    "for n in range(10): #to print out the sum of the rows\n",
    "    m_ = m[n]\n",
    "    print(*m_, '*', sum(m_),  sep = '  ')\n",
    "print('*  '*10) # to print the the 11th line with '*'.\n",
    "list = []\n",
    "for n in range(10):  # to print out the sum of the columns. \n",
    "\n",
    "    n_ = m[n]\n",
    "    #print(n_)\n",
    "    #print(sum(n_))\n",
    "    list.append(sum(n_))\n",
    "print(*list)"
   ]
  },
  {
   "cell_type": "code",
   "execution_count": null,
   "metadata": {},
   "outputs": [],
   "source": []
  }
 ],
 "metadata": {
  "kernelspec": {
   "display_name": "Python 3",
   "language": "python",
   "name": "python3"
  },
  "language_info": {
   "codemirror_mode": {
    "name": "ipython",
    "version": 3
   },
   "file_extension": ".py",
   "mimetype": "text/x-python",
   "name": "python",
   "nbconvert_exporter": "python",
   "pygments_lexer": "ipython3",
   "version": "3.7.4"
  }
 },
 "nbformat": 4,
 "nbformat_minor": 2
}
