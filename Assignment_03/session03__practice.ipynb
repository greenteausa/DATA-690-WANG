{
  "nbformat": 4,
  "nbformat_minor": 0,
  "metadata": {
    "colab": {
      "name": "session03_ practice.ipynb",
      "provenance": [],
      "collapsed_sections": [],
      "authorship_tag": "ABX9TyOuJF1q1SO/4UHKf+drMrei",
      "include_colab_link": true
    },
    "kernelspec": {
      "name": "python3",
      "display_name": "Python 3"
    }
  },
  "cells": [
    {
      "cell_type": "markdown",
      "metadata": {
        "id": "view-in-github",
        "colab_type": "text"
      },
      "source": [
        "<a href=\"https://colab.research.google.com/github/greenteausa/DATA-690-WANG/blob/master/Assignment_03/session03__practice.ipynb\" target=\"_parent\"><img src=\"https://colab.research.google.com/assets/colab-badge.svg\" alt=\"Open In Colab\"/></a>"
      ]
    },
    {
      "cell_type": "markdown",
      "metadata": {
        "id": "PKxVTO15bMR8",
        "colab_type": "text"
      },
      "source": [
        " **Requirment:**\n",
        "\n",
        "  1.To come up with a list of people's first name.\n",
        "  2. and find out how many people are in the class. \n",
        "\n",
        "**Hint**: \n",
        "-use split(), specify delimeter to eperate people.\n",
        "-Use split\n",
        "\n"
      ]
    },
    {
      "cell_type": "code",
      "metadata": {
        "id": "QHvT4KRpaqm9",
        "colab_type": "code",
        "colab": {
          "base_uri": "https://localhost:8080/",
          "height": 54
        },
        "outputId": "cb5e5db4-84ef-4fb1-daa1-4ab5c7f885e7"
      },
      "source": [
        "people_list = 'Wang, Chaojie; Seelam, Arjun Reddy; Rius, Jonathan; Liang, Jinqing; Chowdhury, Debanjan; Maszkiewicz, Lori; Negussie, Neftalem; Steinruck, Michaella; Phogat, Shreshta; Fatima, Misha; Hirabayashi, Scott; Soroush, Masoud; Bolz, Jessica; Mbu Nyamsi, Tchuissi; Dokuzoglu, Yuksel; Gogineni, Shailesh; Pabbisetty, Sai Vinay; Preis, Liam; Jyesta, Vishnu Priya; Narne, Yoshita; Boban, Shruthi; Oberoi, Ashreen Kaur; Cohens, Nashika; Noppinger, Ken; Kakani, Goutham; Hayo, Alyssa'\n",
        "print(people_list)"
      ],
      "execution_count": 1,
      "outputs": [
        {
          "output_type": "stream",
          "text": [
            "Wang, Chaojie; Seelam, Arjun Reddy; Rius, Jonathan; Liang, Jinqing; Chowdhury, Debanjan; Maszkiewicz, Lori; Negussie, Neftalem; Steinruck, Michaella; Phogat, Shreshta; Fatima, Misha; Hirabayashi, Scott; Soroush, Masoud; Bolz, Jessica; Mbu Nyamsi, Tchuissi; Dokuzoglu, Yuksel; Gogineni, Shailesh; Pabbisetty, Sai Vinay; Preis, Liam; Jyesta, Vishnu Priya; Narne, Yoshita; Boban, Shruthi; Oberoi, Ashreen Kaur; Cohens, Nashika; Noppinger, Ken; Kakani, Goutham; Hayo, Alyssa\n"
          ],
          "name": "stdout"
        }
      ]
    },
    {
      "cell_type": "code",
      "metadata": {
        "id": "HdkvNTzLa6Zh",
        "colab_type": "code",
        "colab": {
          "base_uri": "https://localhost:8080/",
          "height": 459
        },
        "outputId": "b5f2565a-5842-425b-d98b-76d88bc6a9dc"
      },
      "source": [
        "people_list.split(';')\n"
      ],
      "execution_count": 2,
      "outputs": [
        {
          "output_type": "execute_result",
          "data": {
            "text/plain": [
              "['Wang, Chaojie',\n",
              " ' Seelam, Arjun Reddy',\n",
              " ' Rius, Jonathan',\n",
              " ' Liang, Jinqing',\n",
              " ' Chowdhury, Debanjan',\n",
              " ' Maszkiewicz, Lori',\n",
              " ' Negussie, Neftalem',\n",
              " ' Steinruck, Michaella',\n",
              " ' Phogat, Shreshta',\n",
              " ' Fatima, Misha',\n",
              " ' Hirabayashi, Scott',\n",
              " ' Soroush, Masoud',\n",
              " ' Bolz, Jessica',\n",
              " ' Mbu Nyamsi, Tchuissi',\n",
              " ' Dokuzoglu, Yuksel',\n",
              " ' Gogineni, Shailesh',\n",
              " ' Pabbisetty, Sai Vinay',\n",
              " ' Preis, Liam',\n",
              " ' Jyesta, Vishnu Priya',\n",
              " ' Narne, Yoshita',\n",
              " ' Boban, Shruthi',\n",
              " ' Oberoi, Ashreen Kaur',\n",
              " ' Cohens, Nashika',\n",
              " ' Noppinger, Ken',\n",
              " ' Kakani, Goutham',\n",
              " ' Hayo, Alyssa']"
            ]
          },
          "metadata": {
            "tags": []
          },
          "execution_count": 2
        }
      ]
    },
    {
      "cell_type": "code",
      "metadata": {
        "id": "QmbOIx8GctjV",
        "colab_type": "code",
        "colab": {
          "base_uri": "https://localhost:8080/",
          "height": 34
        },
        "outputId": "e5901908-7785-4239-b97b-8ab490f7b3cd"
      },
      "source": [
        "people_list.count(',')"
      ],
      "execution_count": 3,
      "outputs": [
        {
          "output_type": "execute_result",
          "data": {
            "text/plain": [
              "26"
            ]
          },
          "metadata": {
            "tags": []
          },
          "execution_count": 3
        }
      ]
    },
    {
      "cell_type": "code",
      "metadata": {
        "id": "yBRWoDWBc9dJ",
        "colab_type": "code",
        "colab": {
          "base_uri": "https://localhost:8080/",
          "height": 71
        },
        "outputId": "bc493318-7771-4964-b80f-149340cff0b0"
      },
      "source": [
        "newer_list_first_name = []\n",
        "newer_list_last_name =[]\n",
        "new_list = people_list.split(';')\n",
        "for i in new_list:\n",
        "  newer_list_first_name.append(i.split(',')[-1])\n",
        "  newer_list_last_name.append(i.split(',')[0])\n",
        "print(newer_list_first_name)\n",
        "print(newer_list_last_name)"
      ],
      "execution_count": 4,
      "outputs": [
        {
          "output_type": "stream",
          "text": [
            "[' Chaojie', ' Arjun Reddy', ' Jonathan', ' Jinqing', ' Debanjan', ' Lori', ' Neftalem', ' Michaella', ' Shreshta', ' Misha', ' Scott', ' Masoud', ' Jessica', ' Tchuissi', ' Yuksel', ' Shailesh', ' Sai Vinay', ' Liam', ' Vishnu Priya', ' Yoshita', ' Shruthi', ' Ashreen Kaur', ' Nashika', ' Ken', ' Goutham', ' Alyssa']\n",
            "['Wang', ' Seelam', ' Rius', ' Liang', ' Chowdhury', ' Maszkiewicz', ' Negussie', ' Steinruck', ' Phogat', ' Fatima', ' Hirabayashi', ' Soroush', ' Bolz', ' Mbu Nyamsi', ' Dokuzoglu', ' Gogineni', ' Pabbisetty', ' Preis', ' Jyesta', ' Narne', ' Boban', ' Oberoi', ' Cohens', ' Noppinger', ' Kakani', ' Hayo']\n"
          ],
          "name": "stdout"
        }
      ]
    },
    {
      "cell_type": "code",
      "metadata": {
        "id": "MRruZ0E-e3uM",
        "colab_type": "code",
        "colab": {
          "base_uri": "https://localhost:8080/",
          "height": 34
        },
        "outputId": "6196493d-9d3a-4735-e426-41d6d226299b"
      },
      "source": [
        "len(newer_list_first_name)"
      ],
      "execution_count": 5,
      "outputs": [
        {
          "output_type": "execute_result",
          "data": {
            "text/plain": [
              "26"
            ]
          },
          "metadata": {
            "tags": []
          },
          "execution_count": 5
        }
      ]
    },
    {
      "cell_type": "code",
      "metadata": {
        "id": "9wZn2jdhgOdW",
        "colab_type": "code",
        "colab": {
          "base_uri": "https://localhost:8080/",
          "height": 34
        },
        "outputId": "965e6eb9-2498-4c1c-a9ad-f62010b3c9cb"
      },
      "source": [
        "len(new_list)"
      ],
      "execution_count": 6,
      "outputs": [
        {
          "output_type": "execute_result",
          "data": {
            "text/plain": [
              "26"
            ]
          },
          "metadata": {
            "tags": []
          },
          "execution_count": 6
        }
      ]
    },
    {
      "cell_type": "code",
      "metadata": {
        "id": "gEVmn3zNgWMR",
        "colab_type": "code",
        "colab": {
          "base_uri": "https://localhost:8080/",
          "height": 459
        },
        "outputId": "ea6091b7-7b62-4790-80e4-14712c84c99c"
      },
      "source": [
        "for i in new_list: \n",
        "  print(i)"
      ],
      "execution_count": 7,
      "outputs": [
        {
          "output_type": "stream",
          "text": [
            "Wang, Chaojie\n",
            " Seelam, Arjun Reddy\n",
            " Rius, Jonathan\n",
            " Liang, Jinqing\n",
            " Chowdhury, Debanjan\n",
            " Maszkiewicz, Lori\n",
            " Negussie, Neftalem\n",
            " Steinruck, Michaella\n",
            " Phogat, Shreshta\n",
            " Fatima, Misha\n",
            " Hirabayashi, Scott\n",
            " Soroush, Masoud\n",
            " Bolz, Jessica\n",
            " Mbu Nyamsi, Tchuissi\n",
            " Dokuzoglu, Yuksel\n",
            " Gogineni, Shailesh\n",
            " Pabbisetty, Sai Vinay\n",
            " Preis, Liam\n",
            " Jyesta, Vishnu Priya\n",
            " Narne, Yoshita\n",
            " Boban, Shruthi\n",
            " Oberoi, Ashreen Kaur\n",
            " Cohens, Nashika\n",
            " Noppinger, Ken\n",
            " Kakani, Goutham\n",
            " Hayo, Alyssa\n"
          ],
          "name": "stdout"
        }
      ]
    },
    {
      "cell_type": "code",
      "metadata": {
        "id": "AMUetNn2ijfC",
        "colab_type": "code",
        "colab": {
          "base_uri": "https://localhost:8080/",
          "height": 853
        },
        "outputId": "0cf6ad43-d138-4d9e-eb0e-ac04cc5af7c4"
      },
      "source": [
        "with open('sample_data/census_cost.txt', 'rt') as my_file:\n",
        "  census_cost = my_file.readlines()\n",
        "  print(census_cost)      \n",
        "for line in census_cost:\n",
        "  print(line)"
      ],
      "execution_count": 9,
      "outputs": [
        {
          "output_type": "stream",
          "text": [
            "['Census Year\\tTotal Population\\tCensus Cost\\tAverage Cost Per Person\\n', '1790\\t3,929,214\\t$44,377\\t1.13 cents\\n', '1800\\t5,308,483\\t$66,109\\t1.24 cents\\n', '1810\\t7,239,881\\t$178,445\\t2.46 cents\\n', '1820\\t9,633,822\\t$208,526\\t2.16 cents\\n', '1830\\t12,866,020\\t$378,545\\t2.94 cents\\n', '1840\\t17,069,458\\t$833,371\\t4.88 cents\\n', '1850\\t23,191,876\\t$1,423,351\\t6.14 cents\\n', '1860\\t31,443,321\\t$1,969,377\\t6.26 cents\\n', '1870\\t38,558,371\\t$3,421,198\\t8.87 cents\\n', '1880\\t50,155,783\\t$5,790,678\\t11.54 cents\\n', '1890\\t62,979,766\\t$11,547,127\\t18.33 cents\\n', '1900\\t76,303,387\\t$11,854,000\\t15.54 cents\\n', '1910\\t91,972,266\\t$15,968,000\\t17.07 cents\\n', '1920\\t105,710,620\\t$25,117,000\\t23.76 cents\\n', '1930\\t122,775,046\\t$40,156,000\\t32.71 cents\\n', '1940\\t131,669,275\\t$67,527,000\\t51.29 cents\\n', '1950\\t151,325,798\\t$91,462,000\\t60.44 cents\\n', '1960\\t179,323,175\\t$127,934,000\\t71.34 cents\\n', '1970\\t203,302,031\\t$247,653,000\\t$1.22\\n', '1980\\t226,542,199\\t$1,078,488,000\\t$4.76\\n', '1990\\t248,718,301\\t$2,492,830,000\\t$10.02\\n', '2000\\t281,421,906\\t$4.5 Billion\\t$15.99\\n', '2010*\\t308,745,538\\t$13 Billion\\t$42.11']\n",
            "Census Year\tTotal Population\tCensus Cost\tAverage Cost Per Person\n",
            "\n",
            "1790\t3,929,214\t$44,377\t1.13 cents\n",
            "\n",
            "1800\t5,308,483\t$66,109\t1.24 cents\n",
            "\n",
            "1810\t7,239,881\t$178,445\t2.46 cents\n",
            "\n",
            "1820\t9,633,822\t$208,526\t2.16 cents\n",
            "\n",
            "1830\t12,866,020\t$378,545\t2.94 cents\n",
            "\n",
            "1840\t17,069,458\t$833,371\t4.88 cents\n",
            "\n",
            "1850\t23,191,876\t$1,423,351\t6.14 cents\n",
            "\n",
            "1860\t31,443,321\t$1,969,377\t6.26 cents\n",
            "\n",
            "1870\t38,558,371\t$3,421,198\t8.87 cents\n",
            "\n",
            "1880\t50,155,783\t$5,790,678\t11.54 cents\n",
            "\n",
            "1890\t62,979,766\t$11,547,127\t18.33 cents\n",
            "\n",
            "1900\t76,303,387\t$11,854,000\t15.54 cents\n",
            "\n",
            "1910\t91,972,266\t$15,968,000\t17.07 cents\n",
            "\n",
            "1920\t105,710,620\t$25,117,000\t23.76 cents\n",
            "\n",
            "1930\t122,775,046\t$40,156,000\t32.71 cents\n",
            "\n",
            "1940\t131,669,275\t$67,527,000\t51.29 cents\n",
            "\n",
            "1950\t151,325,798\t$91,462,000\t60.44 cents\n",
            "\n",
            "1960\t179,323,175\t$127,934,000\t71.34 cents\n",
            "\n",
            "1970\t203,302,031\t$247,653,000\t$1.22\n",
            "\n",
            "1980\t226,542,199\t$1,078,488,000\t$4.76\n",
            "\n",
            "1990\t248,718,301\t$2,492,830,000\t$10.02\n",
            "\n",
            "2000\t281,421,906\t$4.5 Billion\t$15.99\n",
            "\n",
            "2010*\t308,745,538\t$13 Billion\t$42.11\n"
          ],
          "name": "stdout"
        }
      ]
    },
    {
      "cell_type": "markdown",
      "metadata": {
        "id": "8f1Ca5oKnuEU",
        "colab_type": "text"
      },
      "source": [
        ""
      ]
    }
  ]
}